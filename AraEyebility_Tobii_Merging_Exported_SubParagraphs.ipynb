{
  "nbformat": 4,
  "nbformat_minor": 0,
  "metadata": {
    "colab": {
      "provenance": []
    },
    "kernelspec": {
      "name": "python3",
      "display_name": "Python 3"
    },
    "language_info": {
      "name": "python"
    }
  },
  "cells": [
    {
      "cell_type": "code",
      "execution_count": null,
      "metadata": {
        "id": "gKuOjb9cqO95",
        "colab": {
          "base_uri": "https://localhost:8080/"
        },
        "outputId": "269b0b62-08d4-4002-841e-a872c3e8eb66"
      },
      "outputs": [
        {
          "output_type": "stream",
          "name": "stdout",
          "text": [
            "Processing complete. The processed data is saved in 'processed_file.csv'.\n"
          ]
        }
      ],
      "source": [
        "import pandas as pd\n",
        "from statistics import mean\n",
        "import csv\n",
        "\n",
        "# Load the data\n",
        "df = pd.read_csv('/content/MSA_22_Texts.csv')\n",
        "\n",
        "# Initialize a list to hold the processed data\n",
        "processed_data = []\n",
        "\n",
        "# A dictionary to collect the recordings for subparagraphs\n",
        "subparagraphs_data = {}\n",
        "\n",
        "# Iterate over the DataFrame\n",
        "for index, row in df.iterrows():\n",
        "    eye_metric = row['Eye_Metric']\n",
        "    recording = row['All_Recordings']\n",
        "\n",
        "    # Check for subparagraph indicator\n",
        "    if '_SUBp' in eye_metric:\n",
        "\n",
        "        # Extract the base paragraph name\n",
        "        base_paragraph = eye_metric.rsplit('_', 1)[0]\n",
        "\n",
        "        # If this is the first time we're seeing this base paragraph, initialize it in the dictionary\n",
        "        if base_paragraph not in subparagraphs_data:\n",
        "            subparagraphs_data[base_paragraph] = []\n",
        "\n",
        "        # Append the recording to the list for this base paragraph\n",
        "        subparagraphs_data[base_paragraph].append(recording)\n",
        "\n",
        "    else:\n",
        "        # It's a main paragraph, just add it directly to the processed data\n",
        "        processed_data.append({'Eye_Metric': eye_metric, 'All_Recordings': recording})\n",
        "\n",
        "# Process the subparagraphs and add their averages to the processed data\n",
        "for base_paragraph, recordings in subparagraphs_data.items():\n",
        "    average_recording = mean(recordings)\n",
        "    processed_data.append({'Eye_Metric': base_paragraph, 'All_Recordings': average_recording})\n",
        "\n",
        "# Create a new DataFrame with the processed data\n",
        "result_df = pd.DataFrame(processed_data)\n",
        "\n",
        "# Sort the DataFrame by Eye_Metric to maintain order\n",
        "result_df.sort_values(by='Eye_Metric', inplace=True)\n",
        "\n",
        "# Write the results to a new file\n",
        "result_df.to_csv('processed_file.csv', index=False)\n",
        "\n",
        "print(\"Processing complete. The processed data is saved in 'processed_file.csv'.\")\n"
      ]
    },
    {
      "cell_type": "code",
      "source": [
        "import pandas as pd\n",
        "\n",
        "# Load the data\n",
        "df = pd.read_csv('/content/processed_file.csv')\n",
        "\n",
        "# Define the desired order of topics\n",
        "topic_order = ['GraAndMor', 'LitAndElo', 'History', 'Biography', 'GeoAndTra', 'HelAndNut', 'Philosophy', 'Politics', 'Sociology', 'Technology', 'Psychology','Business', 'Art']\n",
        "\n",
        "def get_topic_order(entry):\n",
        "    # Create a list with topic orders, initialized with a high number for sorting non-matching entries at the end\n",
        "    topic_indices = [len(topic_order) + 1]\n",
        "\n",
        "    # Find the lowest order for topics that appear in the entry\n",
        "    for topic in topic_order:\n",
        "        if topic.lower() in entry.lower():\n",
        "            topic_index = topic_order.index(topic)\n",
        "            topic_indices.append(topic_index)\n",
        "\n",
        "    # Return the minimum order found, or len(topic_order) + 1 if no topic was found\n",
        "    return min(topic_indices)\n",
        "\n",
        "# Extract the topic from each Eye_Metric entry and assign it an order\n",
        "df['topic_order'] = df['Eye_Metric'].apply(get_topic_order)\n",
        "\n",
        "# Sort the DataFrame by the topic_order and then by Eye_Metric\n",
        "df.sort_values(by=['topic_order', 'Eye_Metric'], inplace=True)\n",
        "\n",
        "# Drop the topic_order column as it's no longer needed\n",
        "df.drop(columns=['topic_order'], inplace=True)\n",
        "\n",
        "# Save the sorted DataFrame\n",
        "df.to_csv('Transfer.csv', index=False)\n"
      ],
      "metadata": {
        "id": "EJN56ciRGmz2"
      },
      "execution_count": null,
      "outputs": []
    }
  ]
}