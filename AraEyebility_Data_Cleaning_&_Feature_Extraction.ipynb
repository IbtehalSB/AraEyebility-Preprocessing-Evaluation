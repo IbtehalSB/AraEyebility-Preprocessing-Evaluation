{
  "cells": [
    {
      "cell_type": "code",
      "execution_count": null,
      "metadata": {
        "id": "5Ezg1ybaQyQi"
      },
      "outputs": [],
      "source": [
        "#The code loads and inspects the dataset to understand its structure and contents.\n",
        "#It performs data cleaning steps, such as handling missing values. Next, relevant features are derived from the existing data through feature extraction, based on domain knowledge.\n",
        "#The processed dataset is then prepared for further analysis or modeling, ensuring that the data is clean, well-structured, and enriched with meaningful features for predictive tasks.\n",
        "\n",
        "# Import necessary libraries\n",
        "import pandas as pd\n",
        "import numpy as np\n",
        "import seaborn as sns\n",
        "from sklearn.impute import SimpleImputer\n",
        "import matplotlib.pyplot as plt\n",
        "plt.style.use('ggplot')\n",
        "pd.set_option('display.max_columns', 200)\n",
        "pd.set_option('display.max_rows', 600)\n",
        "\n",
        "\n",
        "# Load CSV file into a pandas DataFrame\n",
        "data = pd.read_csv('/content/Median_Paragraphs_Features.csv')"
      ]
    },
    {
      "cell_type": "markdown",
      "metadata": {
        "id": "nmaMGC5Y3sca"
      },
      "source": [
        "# **1- Data Understanding**"
      ]
    },
    {
      "cell_type": "code",
      "execution_count": null,
      "metadata": {
        "colab": {
          "base_uri": "https://localhost:8080/"
        },
        "id": "AgzXeneHzypY",
        "outputId": "1aeee5e6-ecf3-44de-d96c-9c4a5e9be20f"
      },
      "outputs": [
        {
          "output_type": "execute_result",
          "data": {
            "text/plain": [
              "(587, 70)"
            ]
          },
          "metadata": {},
          "execution_count": 130
        }
      ],
      "source": [
        "data.shape"
      ]
    },
    {
      "cell_type": "code",
      "execution_count": null,
      "metadata": {
        "colab": {
          "base_uri": "https://localhost:8080/"
        },
        "id": "g4uFPX-b010s",
        "outputId": "dd0538fb-3c62-4384-aedf-e90581651d5f"
      },
      "outputs": [
        {
          "output_type": "stream",
          "name": "stdout",
          "text": [
            "<class 'pandas.core.frame.DataFrame'>\n",
            "RangeIndex: 587 entries, 0 to 586\n",
            "Data columns (total 70 columns):\n",
            " #   Column                                   Non-Null Count  Dtype  \n",
            "---  ------                                   --------------  -----  \n",
            " 0   Paragraph_Code                           587 non-null    object \n",
            " 1   Book_Language                            587 non-null    object \n",
            " 2   Book_Topic                               587 non-null    object \n",
            " 3   Publication_Century                      587 non-null    int64  \n",
            " 4   Authorship_Type                          587 non-null    object \n",
            " 5   Translation_Type                         587 non-null    object \n",
            " 6   Author_Count                             587 non-null    int64  \n",
            " 7   Text_Source                              587 non-null    object \n",
            " 8   Listing_Count                            587 non-null    int64  \n",
            " 9   Parenthesis_Count                        587 non-null    int64  \n",
            " 10  Parenthetical_Expressions_Count          587 non-null    int64  \n",
            " 11  Numerical_Content_Count                  587 non-null    int64  \n",
            " 12  Religious_Text_Count                     587 non-null    int64  \n",
            " 13  Poem_Verse_Count                         587 non-null    int64  \n",
            " 14  Character_Count                          0 non-null      float64\n",
            " 15  Word_Count                               0 non-null      float64\n",
            " 16  Average_Word_Length_in_Characters        0 non-null      float64\n",
            " 17  Syllable_Count                           587 non-null    int64  \n",
            " 18  Average_Syllables_per_Word               0 non-null      float64\n",
            " 19  Difficult_Words_Count                    587 non-null    int64  \n",
            " 20  Average_Number_of_Difficult_Words_Count  0 non-null      float64\n",
            " 21  Unique_Loan_Word_Count                   587 non-null    int64  \n",
            " 22  Total_Loan_Word_Count                    587 non-null    int64  \n",
            " 23  Unique_Foreign_Word_Count                587 non-null    int64  \n",
            " 24  Total_Foreign_Word_Count                 587 non-null    int64  \n",
            " 25  Loan_Words_to_Token_Ratio                0 non-null      float64\n",
            " 26  Foreign_Words_to_Token_Ratio             0 non-null      float64\n",
            " 27  Sentence_Count                           587 non-null    int64  \n",
            " 28  Average_Sentence_Length_in_Words         0 non-null      float64\n",
            " 29  Average_Sentence_Length_in_Characters    0 non-null      float64\n",
            " 30  OSMAN_Score                              587 non-null    float64\n",
            " 31  ARI_ArScore                              587 non-null    float64\n",
            " 32  Flesch_ArScore                           587 non-null    float64\n",
            " 33  Fog_ArScore                              587 non-null    float64\n",
            " 34  LIX_ArScore                              587 non-null    float64\n",
            " 35  Kincaid_Ar(Flesch)Score                  587 non-null    float64\n",
            " 36  Text_Style                               587 non-null    object \n",
            " 37  Script_Style                             587 non-null    object \n",
            " 38  Linguistic_Style                         587 non-null    object \n",
            " 39  Writing_Technique                        587 non-null    object \n",
            " 40  Time_to_First_Fixation                   587 non-null    float64\n",
            " 41  Fixations_Before                         587 non-null    float64\n",
            " 42  First_Fixation_Duration                  587 non-null    float64\n",
            " 43  Single_Fixation_Duration                 587 non-null    float64\n",
            " 44  Total_Fixation_Duration                  587 non-null    float64\n",
            " 45  Fixation_Count                           587 non-null    float64\n",
            " 46  Average_Number_of_Fixations_per_Word     0 non-null      float64\n",
            " 47  Average_Fixation_Duration                0 non-null      float64\n",
            " 48  Percentage_Fixated                       587 non-null    float64\n",
            " 49  Fixation_Rate                            0 non-null      float64\n",
            " 50  Total_Saccade_Count                      587 non-null    float64\n",
            " 51  Total_Saccade_Duration                   587 non-null    float64\n",
            " 52  Average_Saccade_Duration                 0 non-null      float64\n",
            " 53  Saccadic_Amplitude                       587 non-null    float64\n",
            " 54  Saccade_to_Fixation_Ratio                0 non-null      float64\n",
            " 55  Absolute_Saccadic_Direction              587 non-null    float64\n",
            " 56  Relative_Saccadic_Direction              587 non-null    float64\n",
            " 57  Visit_Count                              587 non-null    float64\n",
            " 58  Single_Visit_Duration                    587 non-null    float64\n",
            " 59  Total_Visit_Duration                     587 non-null    float64\n",
            " 60  Average_Visit_Duration                   0 non-null      float64\n",
            " 61  Average_Number_of_Visits_per_Word        0 non-null      float64\n",
            " 62  Pupil_Size                               587 non-null    float64\n",
            " 63  Rating_Total_Fixation_Duration           587 non-null    float64\n",
            " 64  Rating_Fixation_Count                    587 non-null    float64\n",
            " 65  Rating_Percentage_Fixated                587 non-null    float64\n",
            " 66  Rating_Visit_Count                       587 non-null    float64\n",
            " 67  Rating_Total_Visit_Duration              587 non-null    float64\n",
            " 68  Total_Recording_Duration                 587 non-null    float64\n",
            " 69  Readability_Level                        587 non-null    object \n",
            "dtypes: float64(44), int64(15), object(11)\n",
            "memory usage: 321.1+ KB\n"
          ]
        }
      ],
      "source": [
        "data.info()"
      ]
    },
    {
      "cell_type": "markdown",
      "metadata": {
        "id": "km4yPNAl3mrI"
      },
      "source": [
        "# **2- Data Cleaning**"
      ]
    },
    {
      "cell_type": "markdown",
      "metadata": {
        "id": "Q3Ay7tXIfovk"
      },
      "source": [
        "# 2.1 Checking and Handling Missing Values(NaN)"
      ]
    },
    {
      "cell_type": "code",
      "execution_count": null,
      "metadata": {
        "colab": {
          "base_uri": "https://localhost:8080/"
        },
        "id": "vPNyjoaoVYbO",
        "outputId": "859e70a3-10fa-46b1-9651-3d7b5e9876d8"
      },
      "outputs": [
        {
          "output_type": "execute_result",
          "data": {
            "text/plain": [
              "Paragraph_Code                               0\n",
              "Book_Language                                0\n",
              "Book_Topic                                   0\n",
              "Publication_Century                          0\n",
              "Authorship_Type                              0\n",
              "Translation_Type                             0\n",
              "Author_Count                                 0\n",
              "Text_Source                                  0\n",
              "Listing_Count                                0\n",
              "Parenthesis_Count                            0\n",
              "Parenthetical_Expressions_Count              0\n",
              "Numerical_Content_Count                      0\n",
              "Religious_Text_Count                         0\n",
              "Poem_Verse_Count                             0\n",
              "Character_Count                            587\n",
              "Word_Count                                 587\n",
              "Average_Word_Length_in_Characters          587\n",
              "Syllable_Count                               0\n",
              "Average_Syllables_per_Word                 587\n",
              "Difficult_Words_Count                        0\n",
              "Average_Number_of_Difficult_Words_Count    587\n",
              "Unique_Loan_Word_Count                       0\n",
              "Total_Loan_Word_Count                        0\n",
              "Unique_Foreign_Word_Count                    0\n",
              "Total_Foreign_Word_Count                     0\n",
              "Loan_Words_to_Token_Ratio                  587\n",
              "Foreign_Words_to_Token_Ratio               587\n",
              "Sentence_Count                               0\n",
              "Average_Sentence_Length_in_Words           587\n",
              "Average_Sentence_Length_in_Characters      587\n",
              "OSMAN_Score                                  0\n",
              "ARI_ArScore                                  0\n",
              "Flesch_ArScore                               0\n",
              "Fog_ArScore                                  0\n",
              "LIX_ArScore                                  0\n",
              "Kincaid_Ar(Flesch)Score                      0\n",
              "Text_Style                                   0\n",
              "Script_Style                                 0\n",
              "Linguistic_Style                             0\n",
              "Writing_Technique                            0\n",
              "Time_to_First_Fixation                       0\n",
              "Fixations_Before                             0\n",
              "First_Fixation_Duration                      0\n",
              "Single_Fixation_Duration                     0\n",
              "Total_Fixation_Duration                      0\n",
              "Fixation_Count                               0\n",
              "Average_Number_of_Fixations_per_Word       587\n",
              "Average_Fixation_Duration                  587\n",
              "Percentage_Fixated                           0\n",
              "Fixation_Rate                              587\n",
              "Total_Saccade_Count                          0\n",
              "Total_Saccade_Duration                       0\n",
              "Average_Saccade_Duration                   587\n",
              "Saccadic_Amplitude                           0\n",
              "Saccade_to_Fixation_Ratio                  587\n",
              "Absolute_Saccadic_Direction                  0\n",
              "Relative_Saccadic_Direction                  0\n",
              "Visit_Count                                  0\n",
              "Single_Visit_Duration                        0\n",
              "Total_Visit_Duration                         0\n",
              "Average_Visit_Duration                     587\n",
              "Average_Number_of_Visits_per_Word          587\n",
              "Pupil_Size                                   0\n",
              "Rating_Total_Fixation_Duration               0\n",
              "Rating_Fixation_Count                        0\n",
              "Rating_Percentage_Fixated                    0\n",
              "Rating_Visit_Count                           0\n",
              "Rating_Total_Visit_Duration                  0\n",
              "Total_Recording_Duration                     0\n",
              "Readability_Level                            0\n",
              "dtype: int64"
            ]
          },
          "metadata": {},
          "execution_count": 132
        }
      ],
      "source": [
        "# Returns the number of missing data in each column; if too many, delete the column\n",
        "data.isna().sum()"
      ]
    },
    {
      "cell_type": "code",
      "execution_count": null,
      "metadata": {
        "colab": {
          "base_uri": "https://localhost:8080/"
        },
        "id": "jQXAJ8KqgBCS",
        "outputId": "0e3ecd46-8d82-4bb6-f663-6cd5f2072b5e"
      },
      "outputs": [
        {
          "output_type": "stream",
          "name": "stdout",
          "text": [
            "['Character_Count' 'Word_Count' 'Average_Word_Length_in_Characters'\n",
            " 'Average_Syllables_per_Word' 'Average_Number_of_Difficult_Words_Count'\n",
            " 'Loan_Words_to_Token_Ratio' 'Foreign_Words_to_Token_Ratio'\n",
            " 'Average_Sentence_Length_in_Words'\n",
            " 'Average_Sentence_Length_in_Characters'\n",
            " 'Average_Number_of_Fixations_per_Word' 'Average_Fixation_Duration'\n",
            " 'Fixation_Rate' 'Average_Saccade_Duration' 'Saccade_to_Fixation_Ratio'\n",
            " 'Average_Visit_Duration' 'Average_Number_of_Visits_per_Word']\n"
          ]
        }
      ],
      "source": [
        "#Create a boolean mask of the DataFrame, where each NaN element is marked as True\n",
        "nan_mask = data.isna()\n",
        "\n",
        "#Use the any() method to identify columns that contain at least one NaN value\n",
        "cols_with_nan = nan_mask.any()\n",
        "\n",
        "# Print the columns that contain NaN values\n",
        "print(cols_with_nan[cols_with_nan == True].index.values)"
      ]
    },
    {
      "cell_type": "markdown",
      "metadata": {
        "id": "ogsR6tfpE_Ke"
      },
      "source": [
        "# 2.2 Checking and Handling Duplicates"
      ]
    },
    {
      "cell_type": "code",
      "execution_count": null,
      "metadata": {
        "colab": {
          "base_uri": "https://localhost:8080/"
        },
        "id": "-80aBNe4_beY",
        "outputId": "10786520-381e-4945-cd3e-69909f5db129"
      },
      "outputs": [
        {
          "output_type": "execute_result",
          "data": {
            "text/plain": [
              "0"
            ]
          },
          "metadata": {},
          "execution_count": 134
        }
      ],
      "source": [
        "data.duplicated().sum()"
      ]
    },
    {
      "cell_type": "code",
      "execution_count": null,
      "metadata": {
        "colab": {
          "base_uri": "https://localhost:8080/",
          "height": 73
        },
        "id": "7QeAU179_ghZ",
        "outputId": "d474e0b2-2458-4717-9af8-c64c5eea5ee9"
      },
      "outputs": [
        {
          "output_type": "execute_result",
          "data": {
            "text/plain": [
              "Empty DataFrame\n",
              "Columns: [Paragraph_Code, Book_Language, Book_Topic, Publication_Century, Authorship_Type, Translation_Type, Author_Count, Text_Source, Listing_Count, Parenthesis_Count, Parenthetical_Expressions_Count, Numerical_Content_Count, Religious_Text_Count, Poem_Verse_Count, Character_Count, Word_Count, Average_Word_Length_in_Characters, Syllable_Count, Average_Syllables_per_Word, Difficult_Words_Count, Average_Number_of_Difficult_Words_Count, Unique_Loan_Word_Count, Total_Loan_Word_Count, Unique_Foreign_Word_Count, Total_Foreign_Word_Count, Loan_Words_to_Token_Ratio, Foreign_Words_to_Token_Ratio, Sentence_Count, Average_Sentence_Length_in_Words, Average_Sentence_Length_in_Characters, OSMAN_Score, ARI_ArScore, Flesch_ArScore, Fog_ArScore, LIX_ArScore, Kincaid_Ar(Flesch)Score, Text_Style, Script_Style, Linguistic_Style, Writing_Technique, Time_to_First_Fixation, Fixations_Before, First_Fixation_Duration, Single_Fixation_Duration, Total_Fixation_Duration, Fixation_Count, Average_Number_of_Fixations_per_Word, Average_Fixation_Duration, Percentage_Fixated, Fixation_Rate, Total_Saccade_Count, Total_Saccade_Duration, Average_Saccade_Duration, Saccadic_Amplitude, Saccade_to_Fixation_Ratio, Absolute_Saccadic_Direction, Relative_Saccadic_Direction, Visit_Count, Single_Visit_Duration, Total_Visit_Duration, Average_Visit_Duration, Average_Number_of_Visits_per_Word, Pupil_Size, Rating_Total_Fixation_Duration, Rating_Fixation_Count, Rating_Percentage_Fixated, Rating_Visit_Count, Rating_Total_Visit_Duration, Total_Recording_Duration, Readability_Level]\n",
              "Index: []"
            ],
            "text/html": [
              "\n",
              "  <div id=\"df-ea9ca7a2-bd7e-4487-a7cc-0daa55e5d9dd\" class=\"colab-df-container\">\n",
              "    <div>\n",
              "<style scoped>\n",
              "    .dataframe tbody tr th:only-of-type {\n",
              "        vertical-align: middle;\n",
              "    }\n",
              "\n",
              "    .dataframe tbody tr th {\n",
              "        vertical-align: top;\n",
              "    }\n",
              "\n",
              "    .dataframe thead th {\n",
              "        text-align: right;\n",
              "    }\n",
              "</style>\n",
              "<table border=\"1\" class=\"dataframe\">\n",
              "  <thead>\n",
              "    <tr style=\"text-align: right;\">\n",
              "      <th></th>\n",
              "      <th>Paragraph_Code</th>\n",
              "      <th>Book_Language</th>\n",
              "      <th>Book_Topic</th>\n",
              "      <th>Publication_Century</th>\n",
              "      <th>Authorship_Type</th>\n",
              "      <th>Translation_Type</th>\n",
              "      <th>Author_Count</th>\n",
              "      <th>Text_Source</th>\n",
              "      <th>Listing_Count</th>\n",
              "      <th>Parenthesis_Count</th>\n",
              "      <th>Parenthetical_Expressions_Count</th>\n",
              "      <th>Numerical_Content_Count</th>\n",
              "      <th>Religious_Text_Count</th>\n",
              "      <th>Poem_Verse_Count</th>\n",
              "      <th>Character_Count</th>\n",
              "      <th>Word_Count</th>\n",
              "      <th>Average_Word_Length_in_Characters</th>\n",
              "      <th>Syllable_Count</th>\n",
              "      <th>Average_Syllables_per_Word</th>\n",
              "      <th>Difficult_Words_Count</th>\n",
              "      <th>Average_Number_of_Difficult_Words_Count</th>\n",
              "      <th>Unique_Loan_Word_Count</th>\n",
              "      <th>Total_Loan_Word_Count</th>\n",
              "      <th>Unique_Foreign_Word_Count</th>\n",
              "      <th>Total_Foreign_Word_Count</th>\n",
              "      <th>Loan_Words_to_Token_Ratio</th>\n",
              "      <th>Foreign_Words_to_Token_Ratio</th>\n",
              "      <th>Sentence_Count</th>\n",
              "      <th>Average_Sentence_Length_in_Words</th>\n",
              "      <th>Average_Sentence_Length_in_Characters</th>\n",
              "      <th>OSMAN_Score</th>\n",
              "      <th>ARI_ArScore</th>\n",
              "      <th>Flesch_ArScore</th>\n",
              "      <th>Fog_ArScore</th>\n",
              "      <th>LIX_ArScore</th>\n",
              "      <th>Kincaid_Ar(Flesch)Score</th>\n",
              "      <th>Text_Style</th>\n",
              "      <th>Script_Style</th>\n",
              "      <th>Linguistic_Style</th>\n",
              "      <th>Writing_Technique</th>\n",
              "      <th>Time_to_First_Fixation</th>\n",
              "      <th>Fixations_Before</th>\n",
              "      <th>First_Fixation_Duration</th>\n",
              "      <th>Single_Fixation_Duration</th>\n",
              "      <th>Total_Fixation_Duration</th>\n",
              "      <th>Fixation_Count</th>\n",
              "      <th>Average_Number_of_Fixations_per_Word</th>\n",
              "      <th>Average_Fixation_Duration</th>\n",
              "      <th>Percentage_Fixated</th>\n",
              "      <th>Fixation_Rate</th>\n",
              "      <th>Total_Saccade_Count</th>\n",
              "      <th>Total_Saccade_Duration</th>\n",
              "      <th>Average_Saccade_Duration</th>\n",
              "      <th>Saccadic_Amplitude</th>\n",
              "      <th>Saccade_to_Fixation_Ratio</th>\n",
              "      <th>Absolute_Saccadic_Direction</th>\n",
              "      <th>Relative_Saccadic_Direction</th>\n",
              "      <th>Visit_Count</th>\n",
              "      <th>Single_Visit_Duration</th>\n",
              "      <th>Total_Visit_Duration</th>\n",
              "      <th>Average_Visit_Duration</th>\n",
              "      <th>Average_Number_of_Visits_per_Word</th>\n",
              "      <th>Pupil_Size</th>\n",
              "      <th>Rating_Total_Fixation_Duration</th>\n",
              "      <th>Rating_Fixation_Count</th>\n",
              "      <th>Rating_Percentage_Fixated</th>\n",
              "      <th>Rating_Visit_Count</th>\n",
              "      <th>Rating_Total_Visit_Duration</th>\n",
              "      <th>Total_Recording_Duration</th>\n",
              "      <th>Readability_Level</th>\n",
              "    </tr>\n",
              "  </thead>\n",
              "  <tbody>\n",
              "  </tbody>\n",
              "</table>\n",
              "</div>\n",
              "    <div class=\"colab-df-buttons\">\n",
              "\n",
              "  <div class=\"colab-df-container\">\n",
              "    <button class=\"colab-df-convert\" onclick=\"convertToInteractive('df-ea9ca7a2-bd7e-4487-a7cc-0daa55e5d9dd')\"\n",
              "            title=\"Convert this dataframe to an interactive table.\"\n",
              "            style=\"display:none;\">\n",
              "\n",
              "  <svg xmlns=\"http://www.w3.org/2000/svg\" height=\"24px\" viewBox=\"0 -960 960 960\">\n",
              "    <path d=\"M120-120v-720h720v720H120Zm60-500h600v-160H180v160Zm220 220h160v-160H400v160Zm0 220h160v-160H400v160ZM180-400h160v-160H180v160Zm440 0h160v-160H620v160ZM180-180h160v-160H180v160Zm440 0h160v-160H620v160Z\"/>\n",
              "  </svg>\n",
              "    </button>\n",
              "\n",
              "  <style>\n",
              "    .colab-df-container {\n",
              "      display:flex;\n",
              "      gap: 12px;\n",
              "    }\n",
              "\n",
              "    .colab-df-convert {\n",
              "      background-color: #E8F0FE;\n",
              "      border: none;\n",
              "      border-radius: 50%;\n",
              "      cursor: pointer;\n",
              "      display: none;\n",
              "      fill: #1967D2;\n",
              "      height: 32px;\n",
              "      padding: 0 0 0 0;\n",
              "      width: 32px;\n",
              "    }\n",
              "\n",
              "    .colab-df-convert:hover {\n",
              "      background-color: #E2EBFA;\n",
              "      box-shadow: 0px 1px 2px rgba(60, 64, 67, 0.3), 0px 1px 3px 1px rgba(60, 64, 67, 0.15);\n",
              "      fill: #174EA6;\n",
              "    }\n",
              "\n",
              "    .colab-df-buttons div {\n",
              "      margin-bottom: 4px;\n",
              "    }\n",
              "\n",
              "    [theme=dark] .colab-df-convert {\n",
              "      background-color: #3B4455;\n",
              "      fill: #D2E3FC;\n",
              "    }\n",
              "\n",
              "    [theme=dark] .colab-df-convert:hover {\n",
              "      background-color: #434B5C;\n",
              "      box-shadow: 0px 1px 3px 1px rgba(0, 0, 0, 0.15);\n",
              "      filter: drop-shadow(0px 1px 2px rgba(0, 0, 0, 0.3));\n",
              "      fill: #FFFFFF;\n",
              "    }\n",
              "  </style>\n",
              "\n",
              "    <script>\n",
              "      const buttonEl =\n",
              "        document.querySelector('#df-ea9ca7a2-bd7e-4487-a7cc-0daa55e5d9dd button.colab-df-convert');\n",
              "      buttonEl.style.display =\n",
              "        google.colab.kernel.accessAllowed ? 'block' : 'none';\n",
              "\n",
              "      async function convertToInteractive(key) {\n",
              "        const element = document.querySelector('#df-ea9ca7a2-bd7e-4487-a7cc-0daa55e5d9dd');\n",
              "        const dataTable =\n",
              "          await google.colab.kernel.invokeFunction('convertToInteractive',\n",
              "                                                    [key], {});\n",
              "        if (!dataTable) return;\n",
              "\n",
              "        const docLinkHtml = 'Like what you see? Visit the ' +\n",
              "          '<a target=\"_blank\" href=https://colab.research.google.com/notebooks/data_table.ipynb>data table notebook</a>'\n",
              "          + ' to learn more about interactive tables.';\n",
              "        element.innerHTML = '';\n",
              "        dataTable['output_type'] = 'display_data';\n",
              "        await google.colab.output.renderOutput(dataTable, element);\n",
              "        const docLink = document.createElement('div');\n",
              "        docLink.innerHTML = docLinkHtml;\n",
              "        element.appendChild(docLink);\n",
              "      }\n",
              "    </script>\n",
              "  </div>\n",
              "\n",
              "    </div>\n",
              "  </div>\n"
            ]
          },
          "metadata": {},
          "execution_count": 135
        }
      ],
      "source": [
        "data.loc[data.duplicated()]"
      ]
    },
    {
      "cell_type": "markdown",
      "metadata": {
        "id": "7Fac2AyPJ-Vp"
      },
      "source": [
        "# 2.4 Handling Columns with Noise (Incorrect Negative Values)"
      ]
    },
    {
      "cell_type": "code",
      "execution_count": null,
      "metadata": {
        "colab": {
          "base_uri": "https://localhost:8080/"
        },
        "id": "oXOkHHNL_SXN",
        "outputId": "147fd24c-b79e-4bed-f923-3a8fa5690cf3"
      },
      "outputs": [
        {
          "output_type": "stream",
          "name": "stdout",
          "text": [
            "     OSMAN_Score  Fog_ArScore  Kincaid_Ar(Flesch)Score\n",
            "0      74.269238  -157.817154                38.666829\n",
            "1     150.816870   160.895000                -0.238889\n",
            "2      89.780861   -92.475000                32.120000\n",
            "3     135.702083   147.271087                 4.145652\n",
            "4     164.333097   167.185882                -5.836471\n",
            "5     166.823127   144.810970                -4.934909\n",
            "6     150.690485   144.810970                -0.918077\n",
            "7      42.424778  -190.949535                50.575349\n",
            "8     146.671257   126.922658                 1.684054\n",
            "9      99.565455    69.365217                20.725797\n",
            "10     86.602979    73.185000                25.410000\n",
            "11    120.056022    95.173000                12.406000\n",
            "12    127.290625    88.490811                10.108468\n",
            "13     88.608538    63.771250                24.238750\n",
            "14    147.771349   115.742046                 1.214697\n",
            "15    115.013104    65.530000                15.795319\n",
            "16    111.864483    76.421132                15.766792\n",
            "17    132.328257    60.191765                 9.087059\n",
            "18    155.363258   126.699394                 0.141818\n",
            "19    111.576108    60.414286                17.005714\n",
            "20    134.427023    88.563333                 7.614074\n",
            "21    135.719119    76.748571                 7.771429\n",
            "22    139.083980    82.031667                 6.289259\n",
            "23    150.736465   106.502500                 2.255000\n",
            "24    140.509796    85.508092                 4.872763\n",
            "25    132.946660    91.482117                 6.627297\n",
            "26    142.129327   121.395000                 3.780000\n",
            "27    133.943601    87.710385                 7.484615\n",
            "28    146.159566   131.265000                 2.403333\n",
            "29    159.233627   138.571053                -1.348421\n",
            "30    164.529186   156.078333                -4.370000\n",
            "31    164.809649   157.847692                -5.527692\n",
            "32    165.932464   154.677714                -5.532714\n",
            "33    175.450733   191.484239               -10.591957\n",
            "34    163.505531   177.853234                -5.999403\n",
            "35     69.187709  -153.218333                39.930000\n",
            "36    167.901590   178.970763                -7.515714\n",
            "37    145.242019   158.374594                 0.920048\n",
            "38    152.795553   151.222143                -0.877143\n",
            "39    157.468375   162.379009                -2.805943\n",
            "40    145.069136   160.066591                 0.497727\n",
            "41    103.570800   112.945000                17.380000\n",
            "42    157.444235   172.155000                -3.300000\n",
            "43     43.222890  -196.850789                50.156316\n",
            "44    141.966399   152.262782                 2.041653\n",
            "45    114.187205   115.762500                13.881667\n",
            "46    147.714309   151.721346                 0.171154\n",
            "47    112.882766   119.634783                13.714203\n",
            "48    159.376887   139.750000                -2.755000\n",
            "49    173.713996   188.225000               -10.510000\n",
            "50    168.005285   154.746728                -6.741005\n",
            "51    177.607200   186.285707               -11.295326\n",
            "52    168.212748   162.181039                -7.306494\n",
            "53    165.495697   144.519126                -5.337551\n",
            "54    170.393350   158.106667                -7.220000\n",
            "55    157.441203   127.878895                -2.689158\n",
            "56    169.396649   183.365776                -8.714310\n",
            "57    167.929265   174.420568                -7.652955\n",
            "58    115.805750   124.690625                11.766875\n",
            "59    173.618161   193.716374               -12.228243\n",
            "60    112.783071   108.828125                13.979375\n",
            "61    135.879253   134.268780                 4.717073\n",
            "62    135.780954   138.395610                 4.141463\n",
            "63    122.963996   127.605000                10.366667\n",
            "64    137.890356   135.438611                 4.429691\n",
            "65    155.678398   150.605714                -2.530159\n",
            "66    120.823114   118.272034                11.420000\n",
            "67    107.269235   119.279859                14.260563\n",
            "68     89.038387    84.131047                22.889535\n",
            "69     21.259135    27.542420                48.420892\n",
            "70    157.791145   156.037500                -2.542500\n",
            "71     81.396739    86.723000                26.006000\n",
            "72    160.657963   167.084206                -5.226062\n",
            "73    135.012282   135.564231                 5.423626\n",
            "74    113.675819   118.880682                14.440455\n",
            "75    102.764752   112.945000                17.380000\n",
            "76     52.429840  -193.217500                46.047340\n",
            "77     89.559167   105.173297                21.196703\n",
            "78    107.559805   104.380000                16.587222\n",
            "79     60.047600  -190.615076                42.889541\n",
            "80     86.242036  -125.927726                33.116026\n",
            "81    130.780755   141.686071                 7.408929\n",
            "82     68.762406    71.177168                31.403894\n",
            "83     83.910792    96.781386                24.851485\n",
            "84    128.516631   150.458333                 5.688519\n",
            "85     70.869105    84.446053                29.801579\n",
            "86     42.306509  -193.315000                50.160000\n",
            "87    109.342193   119.149324                15.024054\n",
            "88    151.175044   170.776364                -2.362424\n",
            "89    157.660007   170.683461                -4.088462\n",
            "90     50.576913  -184.010000                47.620000\n",
            "91     79.420062    95.580769                25.764231\n",
            "92    168.934445   158.451684                -7.897474\n",
            "93    154.315933   139.350870                -0.463478\n",
            "94    127.978849    88.045000                 9.922222\n",
            "95    136.823160   128.190601                 5.192215\n",
            "96    140.741273   142.095000                 2.383333\n",
            "97    153.413996   156.645000                -1.136667\n",
            "98    177.036618   180.187250               -10.320500\n",
            "99    145.619429   115.857045                 3.931364\n",
            "100   155.367299   135.672609                 0.049565\n",
            "101   149.419255   150.561250                 0.208750\n",
            "102   143.839196   133.641379                 1.823448\n",
            "103   151.644057   148.805000                -0.540000\n",
            "104    71.394487    66.603832                30.551215\n",
            "105   151.046656   140.046710                -0.958019\n",
            "106    77.809188  -164.360000                38.171667\n",
            "107   126.171279    94.642096                 9.457511\n",
            "108   147.421713   149.678539                 0.133128\n",
            "109   144.771512   146.795000                 1.727778\n",
            "110    65.141425  -178.938333                41.530000\n",
            "111    51.404308  -177.505000                46.961111\n",
            "112   130.448062   138.430000                 5.627234\n",
            "113    62.956468  -166.834483                43.733793\n",
            "114    34.656808  -194.521071                53.433571\n",
            "115    63.865515  -151.145588                42.787647\n",
            "116    70.780486  -155.302632                39.641053\n",
            "117    44.059049  -232.743333                49.780000\n",
            "118   156.290980   165.984514                -3.297547\n",
            "119   157.839679   176.894008                -4.871899\n",
            "120   157.454870   166.936171                -3.897027\n",
            "121    50.677595  -227.973252                48.452195\n",
            "122    34.892727  -242.555000                53.550000\n",
            "123    42.165645  -230.804091                50.917273\n",
            "124   155.844057   155.982500                -2.659043\n",
            "125   172.202657   194.570000               -11.395000\n",
            "126   167.000542   174.734709                -7.187494\n",
            "127   140.995283   158.230000                 2.865532\n",
            "128    13.260215  -231.882273                61.998485\n",
            "129   146.965614   151.005000                -0.350000\n",
            "130   167.281136   176.198866                -7.874374\n",
            "131   164.551789   165.096734                -5.843190\n",
            "132   154.910734   145.234286                -1.780952\n",
            "133   152.611181   157.151923                -1.278352\n",
            "134   145.920853   145.930000                 1.600000\n",
            "135   149.305349   136.595351                 0.500526\n",
            "136   147.739419   142.483462                -0.155128\n",
            "137   140.034894   141.842162                 2.667027\n",
            "138   152.292950   154.620891                -1.185581\n",
            "139    59.442769  -186.209874                43.620755\n",
            "140   152.272772   169.937407                -3.032095\n",
            "141   153.458794   169.433506                -2.734085\n",
            "142   159.132889   173.434286                -5.714286\n",
            "143   125.005370    92.348955                10.150000\n",
            "144   148.219327   133.125000                 0.653333\n",
            "145   125.329968    82.393514                10.958919\n",
            "146   143.744830   105.995000                 2.450000\n",
            "147   134.866483   118.132857                 5.477143\n",
            "148   112.860585    86.545000                15.100000\n",
            "149   155.871409   129.752095                -0.242568\n",
            "150   160.262396   144.524131                -3.868066\n",
            "151   152.166790   121.965577                 1.091923\n",
            "152   158.742434   144.656250                -4.122500\n",
            "153   161.589788   149.847197                -5.364091\n",
            "154   153.217575   148.060497                -2.237259\n",
            "155   152.608559   135.430632                -0.827586\n",
            "156   145.149531   133.646934                 1.201604\n",
            "157   150.432520   139.320909                -0.707727\n",
            "158   148.939736   134.640329                 0.379868\n",
            "159   127.238305   106.731621                 9.675879\n",
            "160   146.467677   122.840368                 1.789719\n",
            "161   141.689225   108.937277                 3.944225\n",
            "162   157.117117   149.838451                -2.603816\n",
            "163   120.611127   129.590454                11.580303\n",
            "164   170.161392   188.300000               -10.768889\n",
            "165    50.758969  -193.049355                47.887097\n",
            "166    77.464304    85.862816                26.871262\n",
            "167    22.520928  -269.155000                59.744444\n",
            "168   149.922971   159.883824                -0.594706\n",
            "169    50.921088  -237.566667                49.045000\n",
            "170   156.453848   167.448030                -2.809091\n",
            "171    36.895656  -203.560000                52.831111\n",
            "172   169.756969   178.094081                -7.904486\n",
            "173   161.149816   177.053044                -5.722174\n",
            "174   153.312062   171.370846                -2.892513\n",
            "175   136.753449   149.110217                 3.889130\n",
            "176    41.394911  -176.694706                50.574510\n",
            "177   174.221293   185.170721                -9.504324\n",
            "178   146.381451   149.555714                 1.094286\n",
            "179    83.099499  -124.652250                35.303833\n",
            "180   144.868238   149.742472                 1.849010\n",
            "181   149.473457   151.495000                 1.072222\n",
            "182   125.674321   117.746471                 9.505882\n",
            "183   124.654201   126.872517                 9.661443\n",
            "184    62.814860    55.541538                34.578462\n",
            "185   115.822905   124.940448                12.477313\n",
            "186    66.537452  -180.521429                41.916429\n",
            "187    50.105623  -189.007917                48.006574\n",
            "188    34.236824  -208.070000                53.957021\n",
            "189   154.355666   168.428507                -3.214978\n",
            "190   153.762958   171.400172                -2.615052\n",
            "191   139.017618   143.295588                 1.719020\n",
            "192   145.655659   147.442647                 1.140588\n",
            "193    52.894272    38.910769                36.898120\n",
            "194   147.707724   150.691071                 0.066429\n",
            "195   104.319011    79.772742                17.535161\n",
            "196   111.991317    87.944545                14.656364\n",
            "197   131.621095   123.949722                 6.032160\n",
            "198   167.183975   174.688667                -9.036000\n",
            "199   164.970425   180.153556                -6.444466\n",
            "200     4.236013    15.597308                56.297692\n",
            "201   150.787850   162.731008                -1.116045\n",
            "202   134.889047   141.440115                 5.538621\n",
            "203    47.107679    59.156667                38.545926\n",
            "204   156.510390   170.675414                -3.932072\n",
            "205   155.960628   166.931162                -3.006128\n",
            "206   153.214370   166.810785                -2.844422\n",
            "207   164.596169   180.535758                -7.367273\n",
            "208   -23.097749  -284.523750                76.793750\n",
            "209    38.073613  -193.332371                52.563893\n",
            "210   -19.746271  -264.522727                74.749293\n",
            "211    16.173784  -232.701452                61.119032\n",
            "212    -3.056017  -254.585443                68.394684\n",
            "213   102.580909   -67.646078                24.102353\n",
            "214   160.172446   145.451348                -3.869631\n",
            "215   129.419065   124.030000                 7.635745\n",
            "216   126.098279   101.000000                10.351111\n",
            "217   142.505918   120.420000                 3.809524\n",
            "218   139.910745   121.186649                 3.746954\n",
            "219   121.507583    85.265909                12.297273\n",
            "220   155.733966   147.098718                -1.875385\n",
            "221   142.381795   134.885455                 2.643636\n",
            "222   144.020883   138.074286                 2.695714\n",
            "223   146.082591   121.062857                 1.590476\n",
            "224   126.723343    18.531515                11.585455\n",
            "225   129.658368   145.058868                 6.193208\n",
            "226   131.277489   127.776047                 6.119535\n",
            "227   146.897193   149.844865                 1.550811\n",
            "228   150.997920   160.311667                -0.820000\n",
            "229   144.168193   139.686942                 2.802018\n",
            "230   118.851738    90.201904                14.217294\n",
            "231   112.261751   114.955000                15.112222\n",
            "232   133.863687   137.547706                 6.122938\n",
            "233   159.164403   154.933333                -4.458723\n",
            "234   142.750899   106.246522                 4.153913\n",
            "235   117.988406   132.516567                11.420597\n",
            "236   172.661849   180.620439                -8.786842\n",
            "237   131.483382   148.251321                 5.747925\n",
            "238   108.503993   120.989091                15.512727\n",
            "239    37.293603  -177.830000                51.975000\n",
            "240   126.776556   127.764643                 8.481190\n",
            "241   166.674490   177.875355                -6.499344\n",
            "242    82.604869  -145.556569                36.377059\n",
            "243    89.014015  -116.548862                32.910732\n",
            "244    60.628293  -148.541622                43.169730\n",
            "245   157.444235   173.565000                -3.496667\n",
            "246     2.153932  -228.692209                66.522093\n",
            "247   148.801750   158.545000                 0.088889\n",
            "248    36.564312  -193.385714                52.405714\n",
            "249    69.318254  -140.251250                40.771250\n",
            "250   177.701624   191.956667               -10.640106\n",
            "251   135.920283   144.293462                 6.051538\n",
            "252   158.795376   164.453871                -1.977419\n",
            "253    88.093155   100.368182                23.854343\n",
            "254    23.519005  -201.118636                57.707576\n",
            "255   -12.503745  -237.583235                71.737059\n",
            "256   133.853335   145.117059                 5.688235\n",
            "257   176.735125   187.942500               -11.091667\n",
            "258   148.857576   154.907105                 1.093158\n",
            "259   132.547983   125.201522                 7.223913\n",
            "260   164.829600   179.811739                -6.106957\n",
            "261    58.300356  -167.655000                44.096667\n",
            "262    55.166073  -154.680000                46.013333\n",
            "263    74.932098  -141.582849                38.348488\n",
            "264   160.989044   170.382500                -4.667553\n",
            "265   137.461384   152.827500                 3.867500\n",
            "266   169.941384   181.782500                -8.120833\n",
            "267   100.858303    91.019452                18.699178\n",
            "268   126.587074   132.438033                 9.940984\n",
            "269   140.223535   151.930000                 3.744255\n",
            "270   138.544502   148.715909                 3.447273\n",
            "271   130.457140   132.551818                 8.434545\n",
            "272   142.941127   148.715909                 3.447273\n",
            "273   157.733146   163.987415                -2.285000\n",
            "274   161.874397   169.616000                -4.188000\n",
            "275   174.549805   186.645000               -11.283333\n",
            "276   157.148158   167.556188                -2.534344\n",
            "277   135.233488   139.540000                 4.975556\n",
            "278   159.121393   164.918224                -3.843289\n",
            "279   145.077604   149.315000                 2.370000\n",
            "280   157.565695   171.328393                -4.116310\n",
            "281   163.947489   180.534808                -7.077308\n",
            "282   160.874503   172.968636                -5.400909\n",
            "283   169.614483   178.291467                -7.323370\n",
            "284    43.765640  -171.718235                49.880392\n",
            "285    14.064314  -226.711471                61.774118\n",
            "286    32.704329  -193.600847                54.920000\n",
            "287   104.585596   116.383049                17.397317\n",
            "288     7.209428  -205.740449                64.066067\n",
            "289   170.055939   167.560780                -8.074927\n",
            "290   164.266994   157.244934                -5.133085\n",
            "291   141.857687   130.417632                 4.508947\n",
            "292   131.674777   123.720455                 6.933636\n",
            "293   161.688538   140.552500                -4.357500\n",
            "294   121.969456    98.739615                12.405385\n",
            "295   140.481581   125.908500                 5.013667\n",
            "296   159.240207   152.741371                -3.957258\n",
            "297   149.400963   150.030865                -0.400449\n",
            "298   150.569017   149.434853                -1.248922\n",
            "299   148.574843   131.733930                 0.772831\n",
            "300   166.220853   164.036667                -5.894074\n",
            "301   101.280967    89.126753                19.956883\n",
            "302   109.470869   115.356438                15.304658\n",
            "303   169.108420   162.342727                -6.651515\n",
            "304   167.929265   177.496932                -8.082045\n",
            "305   148.684445   156.001429                 0.195238\n",
            "306   151.675357   139.481912                 0.139314\n",
            "307   118.819051   129.146154                11.393846\n",
            "308   170.071935   179.032500                -8.358333\n",
            "309   164.481215   163.703816                -6.399710\n",
            "310   141.989862   137.425857                 2.951776\n",
            "311   149.610336   151.229511                -0.927856\n",
            "312   136.572868   126.767500                 3.527500\n",
            "313   148.533039   130.984792                 0.289375\n",
            "314   166.590571   173.596474                -7.177789\n",
            "315   161.380359   160.872500                -4.831667\n",
            "316   166.121233   169.056344                -7.753548\n",
            "317   149.871740   158.716562                -0.638920\n",
            "318   170.057817   169.468571                -7.148571\n",
            "319   168.509351   176.044934                -7.755307\n",
            "320   134.797969   133.580976                 4.813008\n",
            "321    85.796931    80.705000                24.361111\n",
            "322   137.212529   155.089113                 3.179409\n",
            "323   117.313659   130.872273                11.401515\n",
            "324   122.963996   129.015000                10.170000\n",
            "325   167.729658   169.896111                -6.573333\n",
            "326   161.362245   169.765000                -5.947778\n",
            "327   152.180462   144.016569                -1.197059\n",
            "328   165.569946   165.030151                -6.115455\n",
            "329   167.475475   161.190000                -5.816429\n",
            "330   156.268309   147.428909                -2.385172\n",
            "331   159.044235   150.546463                -3.681224\n",
            "332   156.309566   154.810000                -3.365000\n",
            "333   158.784241   159.581304                -3.285217\n",
            "334   158.237189   166.190576                -4.393399\n",
            "335   160.176528   154.386333                -4.134000\n",
            "336   160.731794   165.882500                -4.039894\n",
            "337   155.312568   170.897840                -4.698028\n",
            "338   164.444762   174.941528                -5.874830\n",
            "339   168.529869   183.878461                -9.158462\n",
            "340   158.749056   173.434286                -5.714286\n",
            "341   149.702421   163.666714                -1.221714\n",
            "342    57.227537  -166.688750                44.458750\n",
            "343   144.010590   120.882500                 2.236702\n",
            "344   154.324207   128.466875                -0.684375\n",
            "345   140.666349   103.782500                 4.621809\n",
            "346   144.207937   125.272161                 3.115000\n",
            "347   136.551046    94.408465                 6.500682\n",
            "348   143.288005   117.209546                 2.376364\n",
            "349   142.487397    97.517500                 5.247222\n",
            "350   122.903849    73.398049                13.207317\n",
            "351   128.987647    63.020000                10.680000\n",
            "352    88.393218    42.865821                23.925075\n",
            "353   139.655069   104.925000                 4.586667\n",
            "354   168.247181   178.514574                -8.079070\n",
            "355   -16.177828    -6.525909                63.358283\n",
            "356    91.685007    94.946923                22.623077\n",
            "357    42.570236    56.316187                39.935827\n",
            "358   150.525657   148.400256                -2.056923\n",
            "359    31.733415  -241.969091                55.207273\n",
            "360    71.554503    77.495909                29.777273\n",
            "361   135.939918   143.428547                 4.743716\n",
            "362   167.999855   170.168810                -8.157143\n",
            "363   140.986557   142.487370                 2.949675\n",
            "364   153.533556   154.360496                -2.142973\n",
            "365   159.611414   170.027667                -5.090074\n",
            "366   144.435658   139.745000                 2.711111\n",
            "367   160.188157   163.060526                -4.764211\n",
            "368   147.550492   127.745927                 1.217285\n",
            "369   136.564057   104.415161                 6.396774\n",
            "370   156.279805   147.225000                -1.313333\n",
            "371   174.992547   180.180429                -9.785429\n",
            "372   122.148451   134.137895                 8.710175\n",
            "373    79.717607    90.034412                26.040980\n",
            "374    60.788866  -175.721667                43.400000\n",
            "375   158.816023   165.477386                -3.672854\n",
            "376    97.507334   -79.607895                29.083158\n",
            "377    35.992009  -196.334773                52.941263\n",
            "378   152.064099   166.423750                -2.003750\n",
            "379   119.582861   125.728957                11.497835\n",
            "380    58.300356  -170.475000                44.490000\n",
            "381   155.958907   157.847992                -1.180246\n",
            "382   154.542386   169.868566                -3.312326\n",
            "383   158.007994   171.869715                -3.922683\n",
            "384    78.643315  -156.608462                37.409890\n",
            "385   167.809960   180.383000                -7.726889\n",
            "386    75.107482  -158.635000                37.870000\n",
            "387   169.725610   170.459500                -7.411000\n",
            "388   144.673029   156.364500                 0.765667\n",
            "389   134.125033   143.592826                 4.658696\n",
            "390   161.655136   173.189361                -6.077608\n",
            "391    41.616067  -230.804091                50.917273\n",
            "392   146.140153   127.286275                 2.014260\n",
            "393   148.387886   156.413027                -0.441837\n",
            "394   135.133252   126.980000                 4.740000\n",
            "395   146.222681   132.017206                 1.180490\n",
            "396   150.245946   130.378937                 1.077759\n",
            "397   162.737899   143.441382                -3.352683\n",
            "398   154.209559   140.530765                -0.255408\n",
            "399   142.040044   148.090714                 3.037619\n",
            "400   144.912710   130.916212                 2.286364\n",
            "401   133.172595   107.544865                 7.450811\n",
            "402   146.159566   129.855000                 2.600000\n",
            "403   162.453071   146.818740                -3.591890\n",
            "404   152.685452   137.468000                 0.296000\n",
            "405   156.690775   152.291189                -2.467135\n",
            "406   164.506541   171.420000                -5.433333\n",
            "407   129.933563   132.130000                 6.505957\n",
            "408   161.892066   151.276121                -4.238448\n",
            "409   169.528098   166.432500                -7.399405\n",
            "410   162.710321   164.006503                -4.564918\n",
            "411   171.787912   179.736845                -8.647037\n",
            "412   158.723579   169.272965                -5.009651\n",
            "413   102.419081   108.150000                16.806667\n",
            "414   158.001233   165.153939                -5.221818\n",
            "415   168.274724   172.151500                -7.647000\n",
            "416   151.239734   156.927667                -0.348000\n",
            "417   162.618089   161.201708                -4.803056\n",
            "418   116.939255   124.690625                11.766875\n",
            "419   162.369805   165.065000                -5.292222\n",
            "420   169.004779   170.264448                -7.607379\n",
            "421   159.297203   118.195286                -1.976515\n",
            "422   160.235323   157.036806                -3.613488\n",
            "423   164.065988   164.354361                -4.323605\n",
            "424   170.764737   162.470820                -6.624213\n",
            "425   119.563096   120.035385                12.664615\n",
            "426   166.117617   167.519423                -5.261923\n",
            "427    80.242699  -118.236667                36.458519\n",
            "428   163.768010   172.930020                -5.842693\n",
            "429   167.018080   164.761750                -6.541750\n",
            "430   163.708258   175.047262                -6.518929\n",
            "431   146.704742   159.122024                 0.339643\n",
            "432   139.312273   143.775526                 2.645789\n",
            "433   164.216635   177.335868                -6.208792\n",
            "434    69.708472  -155.881572                39.390566\n",
            "435   165.509236   179.697681                -7.623020\n",
            "436   139.734192   154.540682                 2.220787\n",
            "437   158.375923   170.691283                -4.876241\n",
            "438   164.484487   166.019065                -6.099599\n",
            "439   150.168319   152.801651                -1.470094\n",
            "440   160.109055   176.790000                -6.395279\n",
            "441   161.026392   165.065000                -5.292222\n",
            "442   174.098762   184.133331                -9.597706\n",
            "443    92.389910   101.525000                22.450851\n",
            "444   159.750391   108.161242                -1.074182\n",
            "445   153.016622    86.918004                 2.098669\n",
            "446   128.576355    62.498718                 9.924615\n",
            "447   149.738429    83.222722                 2.784502\n",
            "448   160.571576   129.740986                -2.454285\n",
            "449   173.402900   174.201661                -7.763574\n",
            "450   164.873927   174.247959                -4.875470\n",
            "451   163.173570   170.024036                -4.564320\n",
            "452   139.381866   143.592826                 4.658696\n",
            "453   168.996331   166.916958                -7.605709\n",
            "454   169.116423   176.380000               -10.100000\n",
            "455   168.530914   173.748316                -7.160974\n",
            "456   166.292963   172.349697                -9.869091\n",
            "457   162.629549   166.371750                -5.288167\n",
            "458   175.206735   182.303500                -9.063000\n",
            "459   162.996523   150.700000                -5.524444\n",
            "460   147.284958   100.305000                 1.185238\n",
            "461   152.125003   164.403669                -1.572933\n",
            "462   105.523199    84.691304                18.588116\n",
            "463    50.248809  -201.560613                47.956321\n",
            "464   158.577357   110.885066                -0.801742\n",
            "465   150.078701    92.965000                 2.280000\n",
            "466    96.438575   -85.099365                27.024391\n",
            "467   162.035074   127.162334                -2.203193\n",
            "468   159.644723   115.902632                -1.063165\n",
            "469   176.250228   173.793121                -8.422515\n",
            "470    74.338598  -160.868707                39.299483\n",
            "471   164.126811   155.159286                -4.904286\n",
            "472   145.039455   141.549210                 2.956316\n",
            "473    29.512999    29.481879                46.162953\n",
            "474   133.853335   145.117059                 5.688235\n",
            "475   118.486126   120.775833                13.182407\n",
            "476   147.038765   148.811224                 1.156722\n",
            "477    96.632393   107.901364                20.070909\n",
            "478    74.903281    67.040909                28.502828\n",
            "479   119.251615   131.885224                11.508657\n",
            "480    73.973438  -131.553333                38.315926\n",
            "481    57.731935  -156.672683                45.297561\n",
            "482   144.183244    71.261364                 5.442727\n",
            "483   144.247396   157.065990                 2.365414\n",
            "484    80.555687  -121.908430                35.604302\n",
            "485   175.203034   176.735881                -9.436295\n",
            "486   169.170532   164.601822                -4.979190\n",
            "487   170.355866   157.965054                -5.309436\n",
            "488   160.443969   130.245000                -3.416667\n",
            "489    47.299553    15.151405                41.205785\n",
            "490   127.467455   116.484643                10.054524\n",
            "491   103.770824   106.303165                18.057975\n",
            "492   155.578417   135.096589                -1.636690\n",
            "493   151.357795   116.468563                 1.817241\n",
            "494    74.946029    83.499730                29.188288\n",
            "495   104.622550   -20.187500                23.900556\n",
            "496   -46.111201  -202.756612                81.412477\n",
            "497    71.070011  -145.520000                38.525000\n",
            "498    24.311501  -207.348852                57.334426\n",
            "499    27.371608  -191.791304                57.151884\n",
            "500    81.779905  -124.011250                34.531250\n",
            "501    22.419741  -187.239865                57.759189\n",
            "502    34.221925  -187.932459                54.626230\n",
            "503   114.762073   119.279859                14.260563\n",
            "504   129.586024   137.652353                 6.729412\n",
            "505   166.906055   182.379560                -6.763229\n",
            "506   179.114969   194.329144               -11.201702\n",
            "507    75.733265  -141.215438                37.738279\n",
            "508    85.407356    94.181471                25.462549\n",
            "509    23.345213  -189.435342                57.816986\n",
            "510   149.409555   141.803044                -0.805507\n",
            "511    76.830452    87.494091                28.382727\n",
            "512   160.532057   174.939825                -4.495818\n",
            "513    67.905646    81.329407                31.230000\n",
            "514    96.877778   101.649412                20.197647\n",
            "515    16.505251    26.857485                50.006994\n",
            "516   145.136052   158.721029                 1.679118\n",
            "517   122.795696   133.282813                10.568437\n",
            "518    66.396503    77.632500                32.242500\n",
            "519    55.262195    66.425000                36.290000\n",
            "520   164.571880   171.270476                -5.992143\n",
            "521    27.044308  -199.515000                55.993333\n",
            "522    50.498233  -177.122703                47.156216\n",
            "523    62.012310  -152.630758                43.657273\n",
            "524   162.523237   161.432273                -3.791818\n",
            "525    82.561362  -143.316065                34.789290\n",
            "526    79.200917  -122.810259                36.744503\n",
            "527   153.096944   101.863125                 2.312083\n",
            "528   124.791014    51.303824                10.952794\n",
            "529   102.417941    31.351815                21.245666\n",
            "530   129.594784    51.950382                10.512597\n",
            "531   160.180546   152.125357                -2.121049\n",
            "532   152.409670   150.691071                 0.066429\n",
            "533   168.018502   163.792834                -5.363209\n",
            "534   172.319168   187.523864                -8.797424\n",
            "535    81.629517  -127.647630                35.196542\n",
            "536   158.653307   168.982500                -2.857500\n",
            "537   154.802409   168.315086                -2.974617\n",
            "538   162.722601   176.543626                -4.315820\n",
            "539    56.106253  -159.880000                44.502778\n",
            "540    79.433893  -137.472899                36.243261\n",
            "541   145.172649   154.940599                 2.144305\n",
            "542   153.592979   158.975000                -2.952222\n",
            "543   155.314729   152.993893                -0.503197\n",
            "544   167.272702   168.165000                -4.872857\n",
            "545   124.652844   118.662516                10.570566\n",
            "546    82.034083  -136.838030                35.989091\n",
            "547   133.248894   138.688478                 5.342754\n",
            "548   116.218572   113.874637                13.648130\n",
            "549   170.508533   187.593406                -9.096957\n",
            "550   150.509936   146.282759                 0.060230\n",
            "551   147.562081   117.365263                 0.260752\n",
            "552   108.540121   101.448003                17.078986\n",
            "553   105.858218    96.494000                18.432444\n",
            "554   126.799161    49.683725                13.368235\n",
            "555    73.967131  -157.788500                38.373000\n",
            "556    29.425491  -197.185593                55.420000\n",
            "557    -5.029454  -263.837162                68.442973\n",
            "558    83.140283    99.648077                25.196923\n",
            "559   148.180706   100.031250                 2.713988\n",
            "560   165.216562   174.618452                -6.169286\n",
            "561   150.567297   157.858153                -1.885542\n",
            "562    56.781819  -159.225978                44.038913\n",
            "563   137.402537   148.467347                 4.724082\n",
            "564   126.965873   141.317378                 8.826707\n",
            "565   152.075868   133.093571                 1.651429\n",
            "566   153.850997   143.380571                -0.311310\n",
            "567   186.496376   195.534935               -11.642511\n",
            "568   165.063074   159.709775                -5.858395\n",
            "569   162.049536   130.192466                -2.309159\n",
            "570   165.341359   157.084345                -4.328138\n",
            "571   151.566149   133.959812                 0.454085\n",
            "572   135.102762   105.957500                 8.417500\n",
            "573   161.145853   159.040000                -3.955000\n",
            "574   159.792723   160.619662                -4.547973\n",
            "575   124.997606    92.366635                10.872115\n",
            "576    59.941900  -198.396500                44.037000\n",
            "577    92.366184   -21.282500                24.177500\n",
            "578   114.726809   107.020000                14.480000\n",
            "579    50.516800   -33.915465                39.354651\n",
            "580   116.925453    47.455000                14.590000\n",
            "581   105.564188    39.381388                19.007776\n",
            "582    64.830649    24.257174                32.731304\n",
            "583   158.354446   153.582500                -4.187500\n",
            "584   171.445410   173.319166                -7.265236\n",
            "585   135.966833   107.007789                 5.600406\n",
            "586   162.501450   174.740880                -5.512595\n"
          ]
        }
      ],
      "source": [
        "# Select float columns that contain negative values\n",
        "float_cols = data.select_dtypes(include=['float'])\n",
        "\n",
        "neg_cols = float_cols.loc[:, (float_cols < 0).any()]\n",
        "\n",
        "print(neg_cols)"
      ]
    },
    {
      "cell_type": "code",
      "execution_count": null,
      "metadata": {
        "colab": {
          "base_uri": "https://localhost:8080/",
          "height": 476
        },
        "id": "en-j2itCDex_",
        "outputId": "578ad195-93ca-44e0-d1cb-8911d0af28db"
      },
      "outputs": [
        {
          "output_type": "display_data",
          "data": {
            "text/plain": [
              "<Figure size 640x480 with 1 Axes>"
            ],
            "image/png": "[encoded data removed]"
          },
          "metadata": {}
        }
      ],
      "source": [
        "#**************** (Paragraphs Only) ****************#\n",
        "\n",
        "#1-Handling OSMAN_Score\n",
        "\n",
        "# Show the distribution to decide between mean or median imputation\n",
        "# Plot the distribution of a column using matplotlib\n",
        "plt.hist(data['OSMAN_Score'])\n",
        "plt.xlabel('Values')\n",
        "plt.ylabel('Frequency')\n",
        "plt.title('OSMAN_Score')\n",
        "plt.show()"
      ]
    },
    {
      "cell_type": "code",
      "execution_count": null,
      "metadata": {
        "colab": {
          "base_uri": "https://localhost:8080/"
        },
        "id": "FWwwoa59F3fC",
        "outputId": "2707dc26-ead6-4ee7-ba6c-084d185a6568"
      },
      "outputs": [
        {
          "output_type": "stream",
          "name": "stdout",
          "text": [
            "1.19%\n"
          ]
        }
      ],
      "source": [
        "# Calculate the percentage of values that are less than 0\n",
        "percent_neg_col = (data['OSMAN_Score'] < 0).mean() * 100\n",
        "print(f\"{percent_neg_col:.2f}%\")"
      ]
    },
    {
      "cell_type": "code",
      "execution_count": null,
      "metadata": {
        "colab": {
          "base_uri": "https://localhost:8080/"
        },
        "id": "CgZXd8lE6Ggk",
        "outputId": "590ec26d-dbbb-4e57-f4ac-a8a989e45afb"
      },
      "outputs": [
        {
          "output_type": "stream",
          "name": "stdout",
          "text": [
            "medians:  Readability_Level  Book_Language\n",
            "Difficult          Classical        121.569485\n",
            "                   MSA              157.117117\n",
            "Easy               Classical        134.478049\n",
            "                   MSA              146.111372\n",
            "Medium             Classical        150.567297\n",
            "                   MSA              143.263400\n",
            "Name: OSMAN_Score, dtype: float64\n"
          ]
        },
        {
          "output_type": "stream",
          "name": "stderr",
          "text": [
            "<ipython-input-139-316f28f03bec>:12: FutureWarning: Not prepending group keys to the result index of transform-like apply. In the future, the group keys will be included in the index, regardless of whether the applied function returns a like-indexed object.\n",
            "To preserve the previous behavior, use\n",
            "\n",
            "\t>>> .groupby(..., group_keys=False)\n",
            "\n",
            "To adopt the future behavior and silence this warning, use \n",
            "\n",
            "\t>>> .groupby(..., group_keys=True)\n",
            "  data['OSMAN_Score'] = data.groupby(['Readability_Level', 'Book_Language'])['OSMAN_Score'].apply(lambda x: x.fillna(medians.loc[(x.name[0], x.name[1])]))\n"
          ]
        },
        {
          "output_type": "execute_result",
          "data": {
            "text/plain": [
              "0"
            ]
          },
          "metadata": {},
          "execution_count": 139
        }
      ],
      "source": [
        "# Replace values less than 0 with `np.nan`\n",
        "data.loc[data['OSMAN_Score'] < 0, 'OSMAN_Score'] = np.nan\n",
        "\n",
        "# Print the updated DataFrame\n",
        "data['OSMAN_Score'].isna().sum()\n",
        "\n",
        "medians = data.groupby(['Readability_Level', 'Book_Language'])['OSMAN_Score'].median()\n",
        "\n",
        "print('medians: ',medians)\n",
        "\n",
        "# Replace missing values in each group with the corresponding mean value\n",
        "data['OSMAN_Score'] = data.groupby(['Readability_Level', 'Book_Language'])['OSMAN_Score'].apply(lambda x: x.fillna(medians.loc[(x.name[0], x.name[1])]))\n",
        "\n",
        "# Print the updated DataFrame\n",
        "data['OSMAN_Score'].isna().sum()"
      ]
    },
    {
      "cell_type": "code",
      "execution_count": null,
      "metadata": {
        "colab": {
          "base_uri": "https://localhost:8080/",
          "height": 476
        },
        "id": "ZCF75r0lc6de",
        "outputId": "b90a943c-ccd4-4416-d35f-4c02bf8f5c7f"
      },
      "outputs": [
        {
          "output_type": "display_data",
          "data": {
            "text/plain": [
              "<Figure size 640x480 with 1 Axes>"
            ],
            "image/png": "[encoded data removed]"
          },
          "metadata": {}
        }
      ],
      "source": [
        "# Display the distribution to decide between mean or median imputation\n",
        "# Plot the distribution of a column using matplotlib\n",
        "plt.hist(data['OSMAN_Score'])\n",
        "plt.xlabel('Values')\n",
        "plt.ylabel('Frequency')\n",
        "plt.title('OSMAN_Score')\n",
        "plt.show()"
      ]
    },
    {
      "cell_type": "code",
      "execution_count": null,
      "metadata": {
        "colab": {
          "base_uri": "https://localhost:8080/"
        },
        "id": "k-r0-_kONq13",
        "outputId": "a05f55aa-a452-4761-fcb7-8e1f1a922bb9"
      },
      "outputs": [
        {
          "output_type": "stream",
          "name": "stdout",
          "text": [
            "0.00%\n"
          ]
        }
      ],
      "source": [
        "# Compute the percentage of values that are less than 0\n",
        "percent_neg_col = (data['OSMAN_Score'] < 0).mean() * 100\n",
        "print(f\"{percent_neg_col:.2f}%\")"
      ]
    },
    {
      "cell_type": "code",
      "execution_count": null,
      "metadata": {
        "colab": {
          "base_uri": "https://localhost:8080/",
          "height": 477
        },
        "id": "lSyTKhI2EM26",
        "outputId": "30c00f12-f1cb-4bde-ae77-ea78c3fb331d"
      },
      "outputs": [
        {
          "output_type": "display_data",
          "data": {
            "text/plain": [
              "<Figure size 640x480 with 1 Axes>"
            ],
            "image/png": "[encoded data removed]"
          },
          "metadata": {}
        }
      ],
      "source": [
        "#**************** (Paragraphs and Documents) ****************#\n",
        "\n",
        "#2- Handling Kincaid_Ar(Flesch)Score\n",
        "\n",
        "# Display the distribution to choose between mean or median imputation\n",
        "# Plot the distribution of a column using matplotlib\n",
        "plt.hist(data['Kincaid_Ar(Flesch)Score'])\n",
        "plt.xlabel('Values')\n",
        "plt.ylabel('Frequency')\n",
        "plt.title('Kincaid_Ar(Flesch)Score')\n",
        "plt.show()"
      ]
    },
    {
      "cell_type": "code",
      "execution_count": null,
      "metadata": {
        "colab": {
          "base_uri": "https://localhost:8080/"
        },
        "id": "q2F1MwSfGCC5",
        "outputId": "439b8617-4d91-41f7-b561-341cf0578aeb"
      },
      "outputs": [
        {
          "output_type": "stream",
          "name": "stdout",
          "text": [
            "39.86%\n"
          ]
        }
      ],
      "source": [
        "# Compute the percentage of values less than 0 in `'col1'`\n",
        "percent_neg_col = (data['Kincaid_Ar(Flesch)Score'] < 0).mean() * 100\n",
        "print(f\"{percent_neg_col:.2f}%\")"
      ]
    },
    {
      "cell_type": "code",
      "execution_count": null,
      "metadata": {
        "id": "W6iZ3Rm7JdSc"
      },
      "outputs": [],
      "source": [
        "# Remove the column with excessive missing values (`Kincaid_Ar(Flesch)Score`)\n",
        "data=data.drop(columns=['Kincaid_Ar(Flesch)Score'])\n"
      ]
    },
    {
      "cell_type": "code",
      "execution_count": null,
      "metadata": {
        "colab": {
          "base_uri": "https://localhost:8080/",
          "height": 476
        },
        "id": "9brFAKbpE_Ni",
        "outputId": "2f60964f-ca5d-46a3-a4a1-3d87099945be"
      },
      "outputs": [
        {
          "output_type": "display_data",
          "data": {
            "text/plain": [
              "<Figure size 640x480 with 1 Axes>"
            ],
            "image/png": "[encoded data removed]"
          },
          "metadata": {}
        }
      ],
      "source": [
        "#**************** (Paragraphs Only) ****************#\n",
        "\n",
        "#3- Handling OSMAN_Fog_ArScore\n",
        "\n",
        "# Display the distribution to choose between mean or median imputation\n",
        "# Plot the distribution of a column using matplotlib\n",
        "plt.hist(data['Fog_ArScore'])\n",
        "plt.xlabel('Values')\n",
        "plt.ylabel('Frequency')\n",
        "plt.title('Fog_ArScore')\n",
        "plt.show()"
      ]
    },
    {
      "cell_type": "code",
      "execution_count": null,
      "metadata": {
        "colab": {
          "base_uri": "https://localhost:8080/"
        },
        "id": "h1NgJD6kGO-T",
        "outputId": "275f7b10-5d83-442c-8c64-1643b543fc08"
      },
      "outputs": [
        {
          "output_type": "stream",
          "name": "stdout",
          "text": [
            "16.70%\n"
          ]
        }
      ],
      "source": [
        "\n",
        "# Calculate the percentage of values that are less than 0\n",
        "percent_neg_col = (data['Fog_ArScore'] < 0).mean() * 100\n",
        "print(f\"{percent_neg_col:.2f}%\")"
      ]
    },
    {
      "cell_type": "code",
      "execution_count": null,
      "metadata": {
        "colab": {
          "base_uri": "https://localhost:8080/"
        },
        "id": "gVRPJr52hHpr",
        "outputId": "48feda11-7497-4e14-a1fb-5a846bca7fc5"
      },
      "outputs": [
        {
          "output_type": "stream",
          "name": "stdout",
          "text": [
            "medians:  Readability_Level  Book_Language\n",
            "Difficult          Classical        101.548707\n",
            "                   MSA              144.519126\n",
            "Easy               Classical        141.803044\n",
            "                   MSA              147.326955\n",
            "Medium             Classical        140.002928\n",
            "                   MSA              147.098718\n",
            "Name: Fog_ArScore, dtype: float64\n"
          ]
        },
        {
          "output_type": "stream",
          "name": "stderr",
          "text": [
            "<ipython-input-147-9f1f66c1ae47>:12: FutureWarning: Not prepending group keys to the result index of transform-like apply. In the future, the group keys will be included in the index, regardless of whether the applied function returns a like-indexed object.\n",
            "To preserve the previous behavior, use\n",
            "\n",
            "\t>>> .groupby(..., group_keys=False)\n",
            "\n",
            "To adopt the future behavior and silence this warning, use \n",
            "\n",
            "\t>>> .groupby(..., group_keys=True)\n",
            "  data['Fog_ArScore'] = data.groupby(['Readability_Level', 'Book_Language'])['Fog_ArScore'].apply(lambda x: x.fillna(medians.loc[(x.name[0], x.name[1])]))\n"
          ]
        },
        {
          "output_type": "execute_result",
          "data": {
            "text/plain": [
              "0"
            ]
          },
          "metadata": {},
          "execution_count": 147
        }
      ],
      "source": [
        "# Replace values less than 0 with `np.nan`\n",
        "data.loc[data['Fog_ArScore'] < 0, 'Fog_ArScore'] = np.nan\n",
        "\n",
        "# Print the updated DataFrame\n",
        "data['Fog_ArScore'].isna().sum()\n",
        "\n",
        "medians = data.groupby(['Readability_Level', 'Book_Language'])['Fog_ArScore'].median()\n",
        "\n",
        "print('medians: ',medians)\n",
        "\n",
        "# Replace missing values in each group with the corresponding mean value\n",
        "data['Fog_ArScore'] = data.groupby(['Readability_Level', 'Book_Language'])['Fog_ArScore'].apply(lambda x: x.fillna(medians.loc[(x.name[0], x.name[1])]))\n",
        "\n",
        "# Print the updated DataFrame\n",
        "data['Fog_ArScore'].isna().sum()"
      ]
    },
    {
      "cell_type": "code",
      "execution_count": null,
      "metadata": {
        "colab": {
          "base_uri": "https://localhost:8080/"
        },
        "id": "vhv4MwkoNy1K",
        "outputId": "3b3c4d36-d4f0-4e4e-e79d-0ad31f3515a8"
      },
      "outputs": [
        {
          "output_type": "stream",
          "name": "stdout",
          "text": [
            "0.00%\n"
          ]
        }
      ],
      "source": [
        "# Calculate the percentage of values less than 0\n",
        "percent_neg_col = (data['Fog_ArScore'] < 0).mean() * 100\n",
        "print(f\"{percent_neg_col:.2f}%\")"
      ]
    },
    {
      "cell_type": "code",
      "execution_count": null,
      "metadata": {
        "colab": {
          "base_uri": "https://localhost:8080/",
          "height": 476
        },
        "id": "TjoxGutYdGza",
        "outputId": "dbcb86a9-4297-4cef-ab5d-963110a9b70d"
      },
      "outputs": [
        {
          "output_type": "display_data",
          "data": {
            "text/plain": [
              "<Figure size 640x480 with 1 Axes>"
            ],
            "image/png": "[encoded data removed]"
          },
          "metadata": {}
        }
      ],
      "source": [
        "# Display the distribution to decide whether to use mean or median imputation\n",
        "# Plot the distribution of a column using matplotlib\n",
        "plt.hist(data['Fog_ArScore'])\n",
        "plt.xlabel('Values')\n",
        "plt.ylabel('Frequency')\n",
        "plt.title('Fog_ArScore')\n",
        "plt.show()"
      ]
    },
    {
      "cell_type": "code",
      "execution_count": null,
      "metadata": {
        "colab": {
          "base_uri": "https://localhost:8080/",
          "height": 477
        },
        "id": "g1vYFbUv8hNo",
        "outputId": "7e7f7149-8a1a-4a71-8c83-619bd075dcb8"
      },
      "outputs": [
        {
          "output_type": "display_data",
          "data": {
            "text/plain": [
              "<Figure size 640x480 with 1 Axes>"
            ],
            "image/png": "[encoded data removed]"
          },
          "metadata": {}
        }
      ],
      "source": [
        "#**************** (Documents Only) ****************#\n",
        "\n",
        "#4- Handling Flesch_ArScore\n",
        "\n",
        "# Display the distribution to choose between mean or median imputation\n",
        "# Plot the column distribution using matplotlib\n",
        "plt.hist(data['Flesch_ArScore'])\n",
        "plt.xlabel('Values')\n",
        "plt.ylabel('Frequency')\n",
        "plt.title('Flesch_ArScore')\n",
        "plt.show()"
      ]
    },
    {
      "cell_type": "code",
      "execution_count": null,
      "metadata": {
        "colab": {
          "base_uri": "https://localhost:8080/"
        },
        "id": "plUFuqgs83el",
        "outputId": "2004855b-eabb-4511-a24c-c1412086e495"
      },
      "outputs": [
        {
          "output_type": "stream",
          "name": "stdout",
          "text": [
            "1.09%\n"
          ]
        }
      ],
      "source": [
        "# Calculate the percentage of values that are less than 0\n",
        "percent_neg_col = (data['Flesch_ArScore'] < 0).mean() * 100\n",
        "print(f\"{percent_neg_col:.2f}%\")"
      ]
    },
    {
      "cell_type": "code",
      "execution_count": null,
      "metadata": {
        "colab": {
          "base_uri": "https://localhost:8080/"
        },
        "id": "tuiHnsn188Qh",
        "outputId": "82ce85df-3e0d-4214-aa73-18cd07e1215b"
      },
      "outputs": [
        {
          "output_type": "stream",
          "name": "stdout",
          "text": [
            "medians:  Readability_Level  Book_Language\n",
            "Difficult          Classical        150.148581\n",
            "Easy               Classical        146.687707\n",
            "                   MSA              173.221371\n",
            "Intermediate       Classical        156.805476\n",
            "                   MSA              161.952615\n",
            "Name: Flesch_ArScore, dtype: float64\n"
          ]
        },
        {
          "output_type": "stream",
          "name": "stderr",
          "text": [
            "<ipython-input-43-e81be30600a4>:12: FutureWarning: Not prepending group keys to the result index of transform-like apply. In the future, the group keys will be included in the index, regardless of whether the applied function returns a like-indexed object.\n",
            "To preserve the previous behavior, use\n",
            "\n",
            "\t>>> .groupby(..., group_keys=False)\n",
            "\n",
            "To adopt the future behavior and silence this warning, use \n",
            "\n",
            "\t>>> .groupby(..., group_keys=True)\n",
            "  data['Flesch_ArScore'] = data.groupby(['Readability_Level', 'Book_Language'])['Flesch_ArScore'].apply(lambda x: x.fillna(medians.loc[(x.name[0], x.name[1])]))\n"
          ]
        },
        {
          "output_type": "execute_result",
          "data": {
            "text/plain": [
              "0"
            ]
          },
          "metadata": {},
          "execution_count": 43
        }
      ],
      "source": [
        "# Replace values less than 0 with `np.nan`\n",
        "data.loc[data['Flesch_ArScore'] < 0, 'Flesch_ArScore'] = np.nan\n",
        "\n",
        "# Print the updated DataFrame\n",
        "data['Flesch_ArScore'].isna().sum()\n",
        "\n",
        "medians = data.groupby(['Readability_Level', 'Book_Language'])['Flesch_ArScore'].median()\n",
        "\n",
        "print('medians: ',medians)\n",
        "\n",
        "# Impute missing values in each group with the corresponding mean value\n",
        "data['Flesch_ArScore'] = data.groupby(['Readability_Level', 'Book_Language'])['Flesch_ArScore'].apply(lambda x: x.fillna(medians.loc[(x.name[0], x.name[1])]))\n",
        "\n",
        "# Print the updated DataFrame\n",
        "data['Flesch_ArScore'].isna().sum()"
      ]
    },
    {
      "cell_type": "code",
      "execution_count": null,
      "metadata": {
        "colab": {
          "base_uri": "https://localhost:8080/",
          "height": 477
        },
        "id": "wH6_C0-UIEL1",
        "outputId": "233d53f6-cb96-42a2-c4ed-830146b66345"
      },
      "outputs": [
        {
          "output_type": "display_data",
          "data": {
            "text/plain": [
              "<Figure size 640x480 with 1 Axes>"
            ],
            "image/png": "[encoded data removed]"
          },
          "metadata": {}
        }
      ],
      "source": [
        "# Display the distribution to choose between mean or median imputation\n",
        "# Plot the distribution of a column using matplotlib\n",
        "plt.hist(data['Flesch_ArScore'])\n",
        "plt.xlabel('Values')\n",
        "plt.ylabel('Frequency')\n",
        "plt.title('Flesch_ArScore')\n",
        "plt.show()"
      ]
    },
    {
      "cell_type": "code",
      "execution_count": null,
      "metadata": {
        "colab": {
          "base_uri": "https://localhost:8080/"
        },
        "id": "05S-sD8XIHnU",
        "outputId": "69ac0012-84e0-440f-e199-a92fab0a16c0"
      },
      "outputs": [
        {
          "output_type": "stream",
          "name": "stdout",
          "text": [
            "0.00%\n"
          ]
        }
      ],
      "source": [
        "# Calculate the percentage of values that are less than 0\n",
        "percent_neg_col = (data['Flesch_ArScore'] < 0).mean() * 100\n",
        "print(f\"{percent_neg_col:.2f}%\")"
      ]
    },
    {
      "cell_type": "code",
      "source": [
        "# Print the updated DataFrame\n",
        "data.isna().sum()"
      ],
      "metadata": {
        "colab": {
          "base_uri": "https://localhost:8080/"
        },
        "id": "2n1V4wc8WCbF",
        "outputId": "66cbb110-965f-4435-de23-e0ee31fa579d"
      },
      "execution_count": null,
      "outputs": [
        {
          "output_type": "execute_result",
          "data": {
            "text/plain": [
              "Paragraph_Code                               0\n",
              "Book_Language                                0\n",
              "Book_Topic                                   0\n",
              "Publication_Century                          0\n",
              "Authorship_Type                              0\n",
              "Translation_Type                             0\n",
              "Author_Count                                 0\n",
              "Text_Source                                  0\n",
              "Listing_Count                                0\n",
              "Parenthesis_Count                            0\n",
              "Parenthetical_Expressions_Count              0\n",
              "Numerical_Content_Count                      0\n",
              "Religious_Text_Count                         0\n",
              "Poem_Verse_Count                             0\n",
              "Character_Count                            587\n",
              "Word_Count                                 587\n",
              "Average_Word_Length_in_Characters          587\n",
              "Syllable_Count                               0\n",
              "Average_Syllables_per_Word                 587\n",
              "Difficult_Words_Count                        0\n",
              "Average_Number_of_Difficult_Words_Count    587\n",
              "Unique_Loan_Word_Count                       0\n",
              "Total_Loan_Word_Count                        0\n",
              "Unique_Foreign_Word_Count                    0\n",
              "Total_Foreign_Word_Count                     0\n",
              "Loan_Words_to_Token_Ratio                  587\n",
              "Foreign_Words_to_Token_Ratio               587\n",
              "Sentence_Count                               0\n",
              "Average_Sentence_Length_in_Words           587\n",
              "Average_Sentence_Length_in_Characters      587\n",
              "OSMAN_Score                                  0\n",
              "ARI_ArScore                                  0\n",
              "Flesch_ArScore                               0\n",
              "Fog_ArScore                                  0\n",
              "LIX_ArScore                                  0\n",
              "Text_Style                                   0\n",
              "Script_Style                                 0\n",
              "Linguistic_Style                             0\n",
              "Writing_Technique                            0\n",
              "Time_to_First_Fixation                       0\n",
              "Fixations_Before                             0\n",
              "First_Fixation_Duration                      0\n",
              "Single_Fixation_Duration                     0\n",
              "Total_Fixation_Duration                      0\n",
              "Fixation_Count                               0\n",
              "Average_Number_of_Fixations_per_Word       587\n",
              "Average_Fixation_Duration                  587\n",
              "Percentage_Fixated                           0\n",
              "Fixation_Rate                              587\n",
              "Total_Saccade_Count                          0\n",
              "Total_Saccade_Duration                       0\n",
              "Average_Saccade_Duration                   587\n",
              "Saccadic_Amplitude                           0\n",
              "Saccade_to_Fixation_Ratio                  587\n",
              "Absolute_Saccadic_Direction                  0\n",
              "Relative_Saccadic_Direction                  0\n",
              "Visit_Count                                  0\n",
              "Single_Visit_Duration                        0\n",
              "Total_Visit_Duration                         0\n",
              "Average_Visit_Duration                     587\n",
              "Average_Number_of_Visits_per_Word          587\n",
              "Pupil_Size                                   0\n",
              "Rating_Total_Fixation_Duration               0\n",
              "Rating_Fixation_Count                        0\n",
              "Rating_Percentage_Fixated                    0\n",
              "Rating_Visit_Count                           0\n",
              "Rating_Total_Visit_Duration                  0\n",
              "Total_Recording_Duration                     0\n",
              "Readability_Level                            0\n",
              "dtype: int64"
            ]
          },
          "metadata": {},
          "execution_count": 150
        }
      ]
    },
    {
      "cell_type": "markdown",
      "source": [
        "# **3- Feature Extraction**"
      ],
      "metadata": {
        "id": "mllnYr61kJ_g"
      }
    },
    {
      "cell_type": "code",
      "source": [
        "!pip install pyarabic"
      ],
      "metadata": {
        "id": "GP5wHzVsuT_x",
        "colab": {
          "base_uri": "https://localhost:8080/"
        },
        "outputId": "d0265a35-6374-483a-9b3c-1699fd35b7cd"
      },
      "execution_count": null,
      "outputs": [
        {
          "output_type": "stream",
          "name": "stdout",
          "text": [
            "Requirement already satisfied: pyarabic in /usr/local/lib/python3.10/dist-packages (0.6.15)\n",
            "Requirement already satisfied: six>=1.14.0 in /usr/local/lib/python3.10/dist-packages (from pyarabic) (1.16.0)\n"
          ]
        }
      ]
    },
    {
      "cell_type": "code",
      "source": [
        "import pandas as pd\n",
        "import pyarabic.araby as araby\n",
        "import string\n",
        "from sklearn.feature_extraction.text import CountVectorizer\n",
        "from pyarabic.araby import strip_tashkeel\n",
        "import re\n",
        "\n",
        "\n",
        "# Define punctuation marks for Arabic and English\n",
        "extra_punctuations = '''`÷×؛<>_()*&^%][ـ،؛/:\"؟.,;'{}~¦+|!”…“–ـ'''\n",
        "english_punctuations = string.punctuation\n",
        "punctuations_list = extra_punctuations + english_punctuations\n",
        "\n",
        "pd.set_option('display.max_rows', 600)\n",
        "pd.set_option('display.max_columns', 200)\n",
        "\n",
        "# Load the data\n",
        "fullText = pd.read_csv('/content/MSA_and_Classical_Full_Paragraphs.csv')\n",
        "\n",
        "fullText.shape"
      ],
      "metadata": {
        "id": "Sw3hAMCTq2hE",
        "colab": {
          "base_uri": "https://localhost:8080/"
        },
        "outputId": "a6f4f573-529e-4e6f-da48-a58e8fa147d7"
      },
      "execution_count": null,
      "outputs": [
        {
          "output_type": "execute_result",
          "data": {
            "text/plain": [
              "(587, 2)"
            ]
          },
          "metadata": {},
          "execution_count": 152
        }
      ]
    },
    {
      "cell_type": "markdown",
      "source": [
        "# Using Full Text:"
      ],
      "metadata": {
        "id": "5lfNuLp8H77c"
      }
    },
    {
      "cell_type": "markdown",
      "source": [
        "# **Character Count (Including Diacritics and All Punctuation)**"
      ],
      "metadata": {
        "id": "0Ss2aHaiqF8d"
      }
    },
    {
      "cell_type": "code",
      "source": [
        "def process_text(text):\n",
        "\n",
        "    # Check if the text is a string and handle non-string values (e.g., NaN)\n",
        "    if isinstance(text, str):\n",
        "        text = re.sub(r'[ \\n]+', ' ', text)\n",
        "        text = re.sub(r' +', ' ', text)\n",
        "        text=text.strip()\n",
        "        char_count = len(text)\n",
        "    else:\n",
        "        char_count = 0\n",
        "    return char_count\n",
        "\n",
        "def new_text(text):\n",
        "    # Check if the text is a string and handle non-string values (e.g., NaN)\n",
        "    if isinstance(text, str):\n",
        "        text = re.sub(r'[ \\n]+', ' ', text)\n",
        "        text = re.sub(r' +', ' ', text)\n",
        "        text=text.strip()\n",
        "    return text\n",
        "\n",
        "#`fullText` is the DataFrame and `Paragraph_Text` is the column of interest\n",
        "# Apply the function to each row in the DataFrame\n",
        "fullText['All_Visual_Symbol_Count'] = fullText['Text'].apply(process_text)\n",
        "fullText['Text_All_Visual_Symbol']=fullText['Text'].apply(new_text)\n",
        "\n",
        "\n",
        "# Print the sum of the `Character Count` column\n",
        "total_char_count = fullText['All_Visual_Symbol_Count'].sum()\n",
        "print(\"All_Visual_Symbol_Count Without Removal:\", total_char_count)\n",
        "\n"
      ],
      "metadata": {
        "id": "tkoZQwTZkeM5",
        "colab": {
          "base_uri": "https://localhost:8080/"
        },
        "outputId": "691a8dd3-0c4a-4b6e-bd48-1558c45c4eb0"
      },
      "execution_count": null,
      "outputs": [
        {
          "output_type": "stream",
          "name": "stdout",
          "text": [
            "All_Visual_Symbol_Count Without Removal: 345422\n"
          ]
        }
      ]
    },
    {
      "cell_type": "markdown",
      "source": [
        "# **Character Count (Excluding Diacritics, Punctuation, and Spaces)**"
      ],
      "metadata": {
        "id": "jqLctIjXG0c7"
      }
    },
    {
      "cell_type": "code",
      "source": [
        "import re\n",
        "\n",
        "\n",
        "# Function to remove punctuation from text\n",
        "def remove_punctuations(text):\n",
        "    translator = str.maketrans('', '', punctuations_list)\n",
        "    return text.translate(translator)\n",
        "\n",
        "def process_text(text):\n",
        "    text = re.sub(r'\\s+', '', text)  # Remove whitespaces\n",
        "    text = strip_tashkeel(text)  # strip_tashkeel is a function to remove tashkeel\n",
        "    text = remove_punctuations(text)  # Remove punctuations\n",
        "    char_count = len(text)\n",
        "    return char_count\n",
        "\n",
        "def new_text(text):\n",
        "    text = re.sub(r'\\s+', '', text)  # Remove whitespaces\n",
        "    text = strip_tashkeel(text)  #  strip_tashkeel is a function to remove tashkeel\n",
        "    text = remove_punctuations(text)  # Remove punctuations\n",
        "    return text\n",
        "\n",
        "# Apply the function to each row in the DataFrame\n",
        "fullText['Char_Count'] = fullText['Text'].apply(process_text)\n",
        "data['Character_Count']= fullText['Text'].apply(process_text)\n",
        "fullText['New_Text_Char_Count'] = fullText['Text'].apply(new_text)\n",
        "\n",
        "# Print the sum of the `Character Count` column\n",
        "total_char_count = fullText['Char_Count'].sum()\n",
        "print(\"Char_Count With Removal:\", total_char_count)\n"
      ],
      "metadata": {
        "id": "GI_7zM6P35ad",
        "colab": {
          "base_uri": "https://localhost:8080/"
        },
        "outputId": "8e651c42-014b-4c17-9c63-dda71f7c40b5"
      },
      "execution_count": null,
      "outputs": [
        {
          "output_type": "stream",
          "name": "stdout",
          "text": [
            "Char_Count With Removal: 261900\n"
          ]
        }
      ]
    },
    {
      "cell_type": "markdown",
      "source": [
        "# **Total Word Count**"
      ],
      "metadata": {
        "id": "qZgzxQboqTZv"
      }
    },
    {
      "cell_type": "code",
      "source": [
        "import re\n",
        "\n",
        "# Define a function to clean text and count the number of words\n",
        "def count_words(text):\n",
        "    text = strip_tashkeel(text)  # Strip tashkeel\n",
        "    text = re.sub(r'[ \\n]+', ' ', text)\n",
        "    text = re.sub(r' +', ' ', text)\n",
        "    text = text.strip()\n",
        "\n",
        "    # Split the text into words and count them\n",
        "    words = text.split()\n",
        "    return len(words)  # Return the number of words\n",
        "\n",
        "# Apply the function to the `Paragraph_Text` column\n",
        "fullText['Word_Count'] = fullText['Text'].apply(count_words)\n",
        "data['Word_Count']=fullText['Text'].apply(count_words)\n",
        "\n",
        "\n",
        "# Print the sum of the `Word Count` column\n",
        "total_word_count = fullText['Word_Count'].sum()\n",
        "print(\"Total Word Count:\", total_word_count)\n"
      ],
      "metadata": {
        "colab": {
          "base_uri": "https://localhost:8080/"
        },
        "id": "TORv1wo4gW1m",
        "outputId": "b1410f45-9e01-4065-996e-c68ebb6f0cf3"
      },
      "execution_count": null,
      "outputs": [
        {
          "output_type": "stream",
          "name": "stdout",
          "text": [
            "Total Word Count: 57616\n"
          ]
        }
      ]
    },
    {
      "cell_type": "markdown",
      "source": [
        "# **Unique Word Count (All Texts), Excluding Punctuation and Diacritics**"
      ],
      "metadata": {
        "id": "5dd4RUPWr0xP"
      }
    },
    {
      "cell_type": "code",
      "source": [
        "# Custom tokenizer function that removes punctuation\n",
        "def tok(text):\n",
        "    text = re.sub(r'[ \\n]+', ' ', text)\n",
        "    text = re.sub(r' +', ' ', text)\n",
        "    text=text.strip()\n",
        "    # Remove diacritics and newlines\n",
        "    text = strip_tashkeel(text)\n",
        "    # Remove punctuations\n",
        "    text = remove_punctuations(text)\n",
        "    # Tokenize the text\n",
        "    tokens = text.split()\n",
        "    return tokens\n",
        "\n",
        "\n",
        "# Function to remove punctuation from text\n",
        "def remove_punctuations(text):\n",
        "    translator = str.maketrans('', '', punctuations_list)\n",
        "    return text.translate(translator)"
      ],
      "metadata": {
        "id": "bk7UOPRZVVhv"
      },
      "execution_count": null,
      "outputs": []
    },
    {
      "cell_type": "code",
      "source": [
        "# Concatenate all text into a single string\n",
        "all_text = ' '.join(fullText['Text'].astype(str))\n",
        "\n",
        "# Tokenize the concatenated text and identify unique words\n",
        "unique_words = set(tok(all_text))\n",
        "\n",
        "# Count the number of unique words\n",
        "unique_word_count_All_texts= len(unique_words)\n",
        "print(\"Total Unique Word Count Across All Paragraphs:\", unique_word_count_All_texts)\n",
        "\n",
        "# Optionally, save the set of unique words to a file\n",
        "with open('unique_words.txt', 'w', encoding='utf-8') as f:\n",
        "    for word in unique_words:\n",
        "        f.write(\"%s\\n\" % word)\n"
      ],
      "metadata": {
        "id": "nYWWRqMLrzfC",
        "colab": {
          "base_uri": "https://localhost:8080/"
        },
        "outputId": "40d3c2d5-3387-47eb-b1ea-af06ac5da509"
      },
      "execution_count": null,
      "outputs": [
        {
          "output_type": "stream",
          "name": "stdout",
          "text": [
            "Total Unique Word Count Across All Paragraphs: 19409\n"
          ]
        }
      ]
    },
    {
      "cell_type": "markdown",
      "source": [
        "# **Unique Word Count (Each Paragraph), Excluding Punctuation and Diacritics**"
      ],
      "metadata": {
        "id": "5zZ54sCQsoV_"
      }
    },
    {
      "cell_type": "code",
      "source": [
        "# Create a `CountVectorizer` object using the custom tokenizer\n",
        "vectorizer = CountVectorizer(encoding='utf-8', tokenizer=tok)\n",
        "\n",
        "# Ensure the `Text` column is of type string\n",
        "fullText['Text'] = fullText['Text'].astype(str)\n",
        "\n",
        "# Fit the vectorizer to all documents\n",
        "vectorizer.fit(fullText['Text'])\n",
        "\n",
        "# Tokenize the text and compute the unique word count\n",
        "fullText['Tokenized_Text_Per_Paragraph'] = fullText['Text'].apply(tok)\n",
        "fullText['Unique_Word_Count_Per_Paragraph'] = fullText['Tokenized_Text_Per_Paragraph'].apply(lambda tokens: len(set(tokens)))\n"
      ],
      "metadata": {
        "id": "PDQZ92vWsleQ",
        "colab": {
          "base_uri": "https://localhost:8080/"
        },
        "outputId": "cb849efb-06df-46f6-9dbe-28dff9ec43c0"
      },
      "execution_count": null,
      "outputs": [
        {
          "output_type": "stream",
          "name": "stderr",
          "text": [
            "/usr/local/lib/python3.10/dist-packages/sklearn/feature_extraction/text.py:528: UserWarning: The parameter 'token_pattern' will not be used since 'tokenizer' is not None'\n",
            "  warnings.warn(\n"
          ]
        }
      ]
    },
    {
      "cell_type": "code",
      "source": [
        "# Save the DataFrame to an Excel file\n",
        "fullText.to_excel('FullText_Calculated_Features_Paragraphs.xlsx', index=False)"
      ],
      "metadata": {
        "id": "uxLshZKRV-SK"
      },
      "execution_count": null,
      "outputs": []
    },
    {
      "cell_type": "code",
      "source": [
        "data.shape"
      ],
      "metadata": {
        "id": "NLO2nMeI8KkM",
        "colab": {
          "base_uri": "https://localhost:8080/"
        },
        "outputId": "3f47f923-3b7d-499a-851e-454310440dd7"
      },
      "execution_count": null,
      "outputs": [
        {
          "output_type": "execute_result",
          "data": {
            "text/plain": [
              "(587, 69)"
            ]
          },
          "metadata": {},
          "execution_count": 173
        }
      ]
    },
    {
      "cell_type": "markdown",
      "source": [
        "# Using Data:"
      ],
      "metadata": {
        "id": "_RNBGZ6rIBN_"
      }
    },
    {
      "cell_type": "markdown",
      "source": [
        "**Text-based Features**"
      ],
      "metadata": {
        "id": "9GcZqHh9LVUx"
      }
    },
    {
      "cell_type": "code",
      "source": [
        "data['Average_Word_Length_in_Characters'] = data['Character_Count'] / data['Word_Count']\n",
        "data['Average_Syllables_per_Word'] = data['Syllable_Count']/ data['Word_Count']\n",
        "data['Average_Number_of_Difficult_Words_Count'] = data['Difficult_Words_Count'] / data['Word_Count']\n",
        "data['Foreign_Words_to_Token_Ratio'] = data['Total_Foreign_Word_Count'] / data['Word_Count']\n",
        "data['Loan_Words_to_Token_Ratio'] = data['Total_Loan_Word_Count'] / data['Word_Count']\n",
        "data['Average_Sentence_Length_in_Words'] = data['Word_Count'] / data['Sentence_Count']\n",
        "data['Average_Sentence_Length_in_Characters'] = data['Character_Count'] / data['Sentence_Count']"
      ],
      "metadata": {
        "id": "0lvnMpErLZXj"
      },
      "execution_count": null,
      "outputs": []
    },
    {
      "cell_type": "code",
      "source": [
        "# Print the updated DataFrame\n",
        "data.isna().sum()"
      ],
      "metadata": {
        "colab": {
          "base_uri": "https://localhost:8080/"
        },
        "id": "Q-WGeGxqn9-5",
        "outputId": "7a98f860-65b4-4220-fa75-214574b84579"
      },
      "execution_count": null,
      "outputs": [
        {
          "output_type": "execute_result",
          "data": {
            "text/plain": [
              "Paragraph_Code                               0\n",
              "Book_Language                                0\n",
              "Book_Topic                                   0\n",
              "Publication_Century                          0\n",
              "Authorship_Type                              0\n",
              "Translation_Type                             0\n",
              "Author_Count                                 0\n",
              "Text_Source                                  0\n",
              "Listing_Count                                0\n",
              "Parenthesis_Count                            0\n",
              "Parenthetical_Expressions_Count              0\n",
              "Numerical_Content_Count                      0\n",
              "Religious_Text_Count                         0\n",
              "Poem_Verse_Count                             0\n",
              "Character_Count                              0\n",
              "Word_Count                                   0\n",
              "Average_Word_Length_in_Characters            0\n",
              "Syllable_Count                               0\n",
              "Average_Syllables_per_Word                   0\n",
              "Difficult_Words_Count                        0\n",
              "Average_Number_of_Difficult_Words_Count      0\n",
              "Unique_Loan_Word_Count                       0\n",
              "Total_Loan_Word_Count                        0\n",
              "Unique_Foreign_Word_Count                    0\n",
              "Total_Foreign_Word_Count                     0\n",
              "Loan_Words_to_Token_Ratio                    0\n",
              "Foreign_Words_to_Token_Ratio                 0\n",
              "Sentence_Count                               0\n",
              "Average_Sentence_Length_in_Words             0\n",
              "Average_Sentence_Length_in_Characters        0\n",
              "OSMAN_Score                                  0\n",
              "ARI_ArScore                                  0\n",
              "Flesch_ArScore                               0\n",
              "Fog_ArScore                                  0\n",
              "LIX_ArScore                                  0\n",
              "Text_Style                                   0\n",
              "Script_Style                                 0\n",
              "Linguistic_Style                             0\n",
              "Writing_Technique                            0\n",
              "Time_to_First_Fixation                       0\n",
              "Fixations_Before                             0\n",
              "First_Fixation_Duration                      0\n",
              "Single_Fixation_Duration                     0\n",
              "Total_Fixation_Duration                      0\n",
              "Fixation_Count                               0\n",
              "Average_Number_of_Fixations_per_Word       587\n",
              "Average_Fixation_Duration                  587\n",
              "Percentage_Fixated                           0\n",
              "Fixation_Rate                              587\n",
              "Total_Saccade_Count                          0\n",
              "Total_Saccade_Duration                       0\n",
              "Average_Saccade_Duration                   587\n",
              "Saccadic_Amplitude                           0\n",
              "Saccade_to_Fixation_Ratio                  587\n",
              "Absolute_Saccadic_Direction                  0\n",
              "Relative_Saccadic_Direction                  0\n",
              "Visit_Count                                  0\n",
              "Single_Visit_Duration                        0\n",
              "Total_Visit_Duration                         0\n",
              "Average_Visit_Duration                     587\n",
              "Average_Number_of_Visits_per_Word          587\n",
              "Pupil_Size                                   0\n",
              "Rating_Total_Fixation_Duration               0\n",
              "Rating_Fixation_Count                        0\n",
              "Rating_Percentage_Fixated                    0\n",
              "Rating_Visit_Count                           0\n",
              "Rating_Total_Visit_Duration                  0\n",
              "Total_Recording_Duration                     0\n",
              "Readability_Level                            0\n",
              "dtype: int64"
            ]
          },
          "metadata": {},
          "execution_count": 175
        }
      ]
    },
    {
      "cell_type": "markdown",
      "source": [
        "**Gaze-based Features**"
      ],
      "metadata": {
        "id": "Xu0UjP4bI4uJ"
      }
    },
    {
      "cell_type": "code",
      "source": [
        "data['Average_Fixation_Duration'] = data['Total_Fixation_Duration'] / data['Fixation_Count']\n",
        "data['Average_Number_of_Fixations_per_Word'] = data['Fixation_Count'] / data['Word_Count']\n",
        "data['Fixation_Rate'] = data['Fixation_Count'] / data['Total_Fixation_Duration']\n",
        "data['Average_Saccade_Duration'] = data['Total_Saccade_Duration'] / data['Total_Saccade_Count']\n",
        "data['Saccade_to_Fixation_Ratio'] = data['Total_Saccade_Duration'] / data['Total_Fixation_Duration']\n",
        "data['Average_Visit_Duration'] = data['Total_Visit_Duration'] / data['Visit_Count']\n",
        "data['Average_Number_of_Visits_per_Word'] = data['Visit_Count'] / data['Word_Count']\n"
      ],
      "metadata": {
        "id": "dW50KIrSI-Cf"
      },
      "execution_count": null,
      "outputs": []
    },
    {
      "cell_type": "code",
      "source": [
        "# Print the updated DataFrame\n",
        "data.isna().sum()"
      ],
      "metadata": {
        "id": "JamWShghqjf7",
        "outputId": "f394d4af-0e82-4e26-fa54-ea07bb06defe",
        "colab": {
          "base_uri": "https://localhost:8080/"
        }
      },
      "execution_count": null,
      "outputs": [
        {
          "output_type": "execute_result",
          "data": {
            "text/plain": [
              "Paragraph_Code                             0\n",
              "Book_Language                              0\n",
              "Book_Topic                                 0\n",
              "Publication_Century                        0\n",
              "Authorship_Type                            0\n",
              "Translation_Type                           0\n",
              "Author_Count                               0\n",
              "Text_Source                                0\n",
              "Listing_Count                              0\n",
              "Parenthesis_Count                          0\n",
              "Parenthetical_Expressions_Count            0\n",
              "Numerical_Content_Count                    0\n",
              "Religious_Text_Count                       0\n",
              "Poem_Verse_Count                           0\n",
              "Character_Count                            0\n",
              "Word_Count                                 0\n",
              "Average_Word_Length_in_Characters          0\n",
              "Syllable_Count                             0\n",
              "Average_Syllables_per_Word                 0\n",
              "Difficult_Words_Count                      0\n",
              "Average_Number_of_Difficult_Words_Count    0\n",
              "Unique_Loan_Word_Count                     0\n",
              "Total_Loan_Word_Count                      0\n",
              "Unique_Foreign_Word_Count                  0\n",
              "Total_Foreign_Word_Count                   0\n",
              "Loan_Words_to_Token_Ratio                  0\n",
              "Foreign_Words_to_Token_Ratio               0\n",
              "Sentence_Count                             0\n",
              "Average_Sentence_Length_in_Words           0\n",
              "Average_Sentence_Length_in_Characters      0\n",
              "OSMAN_Score                                0\n",
              "ARI_ArScore                                0\n",
              "Flesch_ArScore                             0\n",
              "Fog_ArScore                                0\n",
              "LIX_ArScore                                0\n",
              "Text_Style                                 0\n",
              "Script_Style                               0\n",
              "Linguistic_Style                           0\n",
              "Writing_Technique                          0\n",
              "Time_to_First_Fixation                     0\n",
              "Fixations_Before                           0\n",
              "First_Fixation_Duration                    0\n",
              "Single_Fixation_Duration                   0\n",
              "Total_Fixation_Duration                    0\n",
              "Fixation_Count                             0\n",
              "Average_Number_of_Fixations_per_Word       0\n",
              "Average_Fixation_Duration                  0\n",
              "Percentage_Fixated                         0\n",
              "Fixation_Rate                              0\n",
              "Total_Saccade_Count                        0\n",
              "Total_Saccade_Duration                     0\n",
              "Average_Saccade_Duration                   0\n",
              "Saccadic_Amplitude                         0\n",
              "Saccade_to_Fixation_Ratio                  0\n",
              "Absolute_Saccadic_Direction                0\n",
              "Relative_Saccadic_Direction                0\n",
              "Visit_Count                                0\n",
              "Single_Visit_Duration                      0\n",
              "Total_Visit_Duration                       0\n",
              "Average_Visit_Duration                     0\n",
              "Average_Number_of_Visits_per_Word          0\n",
              "Pupil_Size                                 0\n",
              "Rating_Total_Fixation_Duration             0\n",
              "Rating_Fixation_Count                      0\n",
              "Rating_Percentage_Fixated                  0\n",
              "Rating_Visit_Count                         0\n",
              "Rating_Total_Visit_Duration                0\n",
              "Total_Recording_Duration                   0\n",
              "Readability_Level                          0\n",
              "dtype: int64"
            ]
          },
          "metadata": {},
          "execution_count": 177
        }
      ]
    },
    {
      "cell_type": "markdown",
      "source": [
        "# **4- Save to an Excel File**"
      ],
      "metadata": {
        "id": "ExGWjrqnkX5U"
      }
    },
    {
      "cell_type": "code",
      "execution_count": null,
      "metadata": {
        "id": "Bg7eL_RRoj8f"
      },
      "outputs": [],
      "source": [
        "df = pd.DataFrame(data)\n",
        "\n",
        "# Save the dataframe to an Excel file\n",
        "df.to_excel('Final_Clean_Claculated_Features_Paragraphs.xlsx', index=False)"
      ]
    }
  ],
  "metadata": {
    "colab": {
      "provenance": []
    },
    "kernelspec": {
      "display_name": "Python 3",
      "name": "python3"
    },
    "language_info": {
      "name": "python"
    }
  },
  "nbformat": 4,
  "nbformat_minor": 0
}