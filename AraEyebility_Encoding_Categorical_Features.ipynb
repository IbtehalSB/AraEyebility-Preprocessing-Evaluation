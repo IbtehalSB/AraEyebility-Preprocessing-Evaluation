{
  "nbformat": 4,
  "nbformat_minor": 0,
  "metadata": {
    "colab": {
      "provenance": []
    },
    "kernelspec": {
      "name": "python3",
      "display_name": "Python 3"
    },
    "language_info": {
      "name": "python"
    }
  },
  "cells": [
    {
      "cell_type": "code",
      "source": [
        "#The code handles ordinal and one-hot encoding for specific columns in a DataFrame. It transforms categorical data into numerical representations, enabling machine learning algorithms to process the data.\n",
        "#The DataFrame is updated with the newly encoded columns for further analysis.\n",
        "\n",
        "import pandas as pd\n",
        "\n",
        "# Load CSV file into a pandas DataFrame\n",
        "df = pd.read_csv('/content/Final_Clean_Claculated_Features_Paragraphs.csv')"
      ],
      "metadata": {
        "id": "mIBcTTiM_ciB"
      },
      "execution_count": null,
      "outputs": []
    },
    {
      "cell_type": "code",
      "source": [
        "df.shape"
      ],
      "metadata": {
        "colab": {
          "base_uri": "https://localhost:8080/"
        },
        "id": "Yhg8xk95_uNG",
        "outputId": "68289347-fd65-4a72-c377-134756d93c3b"
      },
      "execution_count": null,
      "outputs": [
        {
          "output_type": "execute_result",
          "data": {
            "text/plain": [
              "(587, 69)"
            ]
          },
          "metadata": {},
          "execution_count": 2
        }
      ]
    },
    {
      "cell_type": "markdown",
      "source": [
        "# **Ordinal Encoding**\n"
      ],
      "metadata": {
        "id": "3ptSmyzg0US-"
      }
    },
    {
      "cell_type": "code",
      "source": [
        "from sklearn.preprocessing import OrdinalEncoder"
      ],
      "metadata": {
        "id": "zYrI3NS7FRvc"
      },
      "execution_count": null,
      "outputs": []
    },
    {
      "cell_type": "code",
      "source": [
        "# Initialize ordinal encoder\n",
        "ordinal_encoder1 = OrdinalEncoder(categories=[['Easy', 'Medium', 'Difficult']])\n",
        "\n",
        "# Reshape data and fit transform\n",
        "df['Readability_Level'] = ordinal_encoder1.fit_transform(df[['Readability_Level']])\n",
        "\n",
        "print(df['Readability_Level'].unique())\n",
        "print(df['Readability_Level'])"
      ],
      "metadata": {
        "colab": {
          "base_uri": "https://localhost:8080/"
        },
        "id": "mikY_lnYCilc",
        "outputId": "6e3f33db-d427-4206-b089-7488155ff991"
      },
      "execution_count": null,
      "outputs": [
        {
          "output_type": "stream",
          "name": "stdout",
          "text": [
            "[0. 1. 2.]\n",
            "0      0.0\n",
            "1      1.0\n",
            "2      1.0\n",
            "3      1.0\n",
            "4      1.0\n",
            "      ... \n",
            "582    0.0\n",
            "583    0.0\n",
            "584    1.0\n",
            "585    1.0\n",
            "586    1.0\n",
            "Name: Readability_Level, Length: 587, dtype: float64\n"
          ]
        }
      ]
    },
    {
      "cell_type": "code",
      "source": [
        "# Initialize ordinal encoder\n",
        "ordinal_encoder2 = OrdinalEncoder(categories=[['Classical', 'MSA']])\n",
        "\n",
        "# Reshape data and fit transform\n",
        "df['Book_Language'] = ordinal_encoder2.fit_transform(df[['Book_Language']])\n",
        "\n",
        "print(df['Book_Language'].unique())\n",
        "print(df['Book_Language'])"
      ],
      "metadata": {
        "id": "BVxAZzGZ0wh8",
        "colab": {
          "base_uri": "https://localhost:8080/"
        },
        "outputId": "3c2ab154-7e17-4f09-fb5b-92c0e145485c"
      },
      "execution_count": null,
      "outputs": [
        {
          "output_type": "stream",
          "name": "stdout",
          "text": [
            "[1. 0.]\n",
            "0      1.0\n",
            "1      1.0\n",
            "2      1.0\n",
            "3      1.0\n",
            "4      1.0\n",
            "      ... \n",
            "582    0.0\n",
            "583    0.0\n",
            "584    0.0\n",
            "585    0.0\n",
            "586    0.0\n",
            "Name: Book_Language, Length: 587, dtype: float64\n"
          ]
        }
      ]
    },
    {
      "cell_type": "markdown",
      "source": [
        "# **One-Hot Encoding**"
      ],
      "metadata": {
        "id": "wSzDhXMi1-J1"
      }
    },
    {
      "cell_type": "code",
      "source": [
        "from sklearn.preprocessing import OneHotEncoder"
      ],
      "metadata": {
        "id": "PfAriU1pFnFy"
      },
      "execution_count": null,
      "outputs": []
    },
    {
      "cell_type": "code",
      "source": [
        "\n",
        "# Initialize one-hot encoder\n",
        "one_hot_encoder = OneHotEncoder(sparse_output=False)\n",
        "\n",
        "# Fit transform\n",
        "encoded_data = one_hot_encoder.fit_transform(df[['Book_Topic']])\n",
        "encoded_columns = one_hot_encoder.get_feature_names_out(['Book_Topic'])\n",
        "\n",
        "# Convert encoded data to DataFrame\n",
        "encoded_df = pd.DataFrame(encoded_data, columns=encoded_columns)\n",
        "\n",
        "# Concatenate the encoded columns to the original dataframe\n",
        "df = pd.concat([df, encoded_df], axis=1)\n",
        "\n",
        "# Drop the original column\n",
        "df.drop('Book_Topic', axis=1, inplace=True)"
      ],
      "metadata": {
        "id": "2Z08VAh2FEnZ"
      },
      "execution_count": null,
      "outputs": []
    },
    {
      "cell_type": "code",
      "source": [
        "\n",
        "# Initialize one-hot encoder\n",
        "one_hot_encoder = OneHotEncoder(sparse_output=False)\n",
        "\n",
        "# Fit transform\n",
        "encoded_data = one_hot_encoder.fit_transform(df[['Authorship_Type']])\n",
        "encoded_columns = one_hot_encoder.get_feature_names_out(['Authorship_Type'])\n",
        "\n",
        "# Convert encoded data to DataFrame\n",
        "encoded_df = pd.DataFrame(encoded_data, columns=encoded_columns)\n",
        "\n",
        "# Concatenate the encoded columns to the original dataframe\n",
        "df = pd.concat([df, encoded_df], axis=1)\n",
        "\n",
        "# Drop the original column\n",
        "df.drop('Authorship_Type', axis=1, inplace=True)\n"
      ],
      "metadata": {
        "id": "e_yXigWRIrg3"
      },
      "execution_count": null,
      "outputs": []
    },
    {
      "cell_type": "code",
      "source": [
        "# Initialize one-hot encoder\n",
        "one_hot_encoder = OneHotEncoder(sparse_output=False)\n",
        "\n",
        "# Fit transform\n",
        "encoded_data = one_hot_encoder.fit_transform(df[['Translation_Type']])\n",
        "encoded_columns = one_hot_encoder.get_feature_names_out(['Translation_Type'])\n",
        "\n",
        "# Convert encoded data to DataFrame\n",
        "encoded_df = pd.DataFrame(encoded_data, columns=encoded_columns)\n",
        "\n",
        "# Concatenate the encoded columns to the original dataframe\n",
        "df = pd.concat([df, encoded_df], axis=1)\n",
        "\n",
        "# Drop the original column\n",
        "df.drop('Translation_Type', axis=1, inplace=True)"
      ],
      "metadata": {
        "id": "z6-NNL-HI6yG"
      },
      "execution_count": null,
      "outputs": []
    },
    {
      "cell_type": "code",
      "source": [
        "# Initialize one-hot encoder\n",
        "one_hot_encoder = OneHotEncoder(sparse_output=False)\n",
        "\n",
        "# Fit transform\n",
        "encoded_data = one_hot_encoder.fit_transform(df[['Text_Style']])\n",
        "encoded_columns = one_hot_encoder.get_feature_names_out(['Text_Style'])\n",
        "\n",
        "# Convert encoded data to DataFrame\n",
        "encoded_df = pd.DataFrame(encoded_data, columns=encoded_columns)\n",
        "\n",
        "# Concatenate the encoded columns to the original dataframe\n",
        "df = pd.concat([df, encoded_df], axis=1)\n",
        "\n",
        "# Drop the original column\n",
        "df.drop('Text_Style', axis=1, inplace=True)"
      ],
      "metadata": {
        "id": "dBvovg-1JKiu"
      },
      "execution_count": null,
      "outputs": []
    },
    {
      "cell_type": "code",
      "source": [
        "# Initialize one-hot encoder\n",
        "one_hot_encoder = OneHotEncoder(sparse_output=False)\n",
        "\n",
        "# Fit transform\n",
        "encoded_data = one_hot_encoder.fit_transform(df[['Script_Style']])\n",
        "encoded_columns = one_hot_encoder.get_feature_names_out(['Script_Style'])\n",
        "\n",
        "# Convert encoded data to DataFrame\n",
        "encoded_df = pd.DataFrame(encoded_data, columns=encoded_columns)\n",
        "\n",
        "# Concatenate the encoded columns to the original dataframe\n",
        "df = pd.concat([df, encoded_df], axis=1)\n",
        "\n",
        "# Drop the original column\n",
        "df.drop('Script_Style', axis=1, inplace=True)"
      ],
      "metadata": {
        "id": "7Q7EYwqzJR35"
      },
      "execution_count": null,
      "outputs": []
    },
    {
      "cell_type": "code",
      "source": [
        "# Initialize one-hot encoder\n",
        "one_hot_encoder = OneHotEncoder(sparse_output=False)\n",
        "\n",
        "# Fit transform\n",
        "encoded_data = one_hot_encoder.fit_transform(df[['Linguistic_Style']])\n",
        "encoded_columns = one_hot_encoder.get_feature_names_out(['Linguistic_Style'])\n",
        "\n",
        "# Convert encoded data to DataFrame\n",
        "encoded_df = pd.DataFrame(encoded_data, columns=encoded_columns)\n",
        "\n",
        "# Concatenate the encoded columns to the original dataframe\n",
        "df = pd.concat([df, encoded_df], axis=1)\n",
        "\n",
        "# Drop the original column\n",
        "df.drop('Linguistic_Style', axis=1, inplace=True)"
      ],
      "metadata": {
        "id": "loyY9wprJY7z"
      },
      "execution_count": null,
      "outputs": []
    },
    {
      "cell_type": "code",
      "source": [
        "# Initialize one-hot encoder\n",
        "one_hot_encoder = OneHotEncoder(sparse_output=False)\n",
        "\n",
        "# Fit transform\n",
        "encoded_data = one_hot_encoder.fit_transform(df[['Writing_Technique']])\n",
        "encoded_columns = one_hot_encoder.get_feature_names_out(['Writing_Technique'])\n",
        "\n",
        "# Convert encoded data to DataFrame\n",
        "encoded_df = pd.DataFrame(encoded_data, columns=encoded_columns)\n",
        "\n",
        "# Concatenate the encoded columns to the original dataframe\n",
        "df = pd.concat([df, encoded_df], axis=1)\n",
        "\n",
        "# Drop the original column\n",
        "df.drop('Writing_Technique', axis=1, inplace=True)"
      ],
      "metadata": {
        "id": "RJuuE9SxJnZd"
      },
      "execution_count": null,
      "outputs": []
    },
    {
      "cell_type": "code",
      "source": [
        "# Initialize one-hot encoder\n",
        "one_hot_encoder = OneHotEncoder(sparse_output=False)\n",
        "\n",
        "# Fit transform\n",
        "encoded_data = one_hot_encoder.fit_transform(df[['Text_Source']])\n",
        "encoded_columns = one_hot_encoder.get_feature_names_out(['Text_Source'])\n",
        "\n",
        "# Convert encoded data to DataFrame\n",
        "encoded_df = pd.DataFrame(encoded_data, columns=encoded_columns)\n",
        "\n",
        "# Concatenate the encoded columns to the original dataframe\n",
        "df = pd.concat([df, encoded_df], axis=1)\n",
        "\n",
        "# Drop the original column\n",
        "df.drop('Text_Source', axis=1, inplace=True)"
      ],
      "metadata": {
        "id": "n2qSAVIMM1bi"
      },
      "execution_count": null,
      "outputs": []
    },
    {
      "cell_type": "code",
      "source": [
        "encoded_df = pd.DataFrame(df)\n",
        "\n",
        "# Save the DataFrame to an Excel file\n",
        "encoded_df.to_excel('Final_One-Hot_Encoded_Paragraphs_for_Modeling.xlsx', index=False)"
      ],
      "metadata": {
        "id": "e0YKNzXc2OzN"
      },
      "execution_count": null,
      "outputs": []
    }
  ]
}